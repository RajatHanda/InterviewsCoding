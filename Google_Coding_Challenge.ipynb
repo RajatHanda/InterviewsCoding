{
 "cells": [
  {
   "cell_type": "code",
   "execution_count": null,
   "metadata": {},
   "outputs": [],
   "source": [
    "class Solution:\n",
    "    "
   ]
  },
  {
   "cell_type": "code",
   "execution_count": 91,
   "metadata": {},
   "outputs": [],
   "source": [
    "#Google coding 2018\n",
    "#Find the latest Time Before\n",
    "def nextClosestTime(time):\n",
    "    hr,min_,uni_=int(time[0:-3]),int(time[-2:]),set(time)\n",
    "    flag=1\n",
    "    while flag:\n",
    "        min_-=1\n",
    "        if min_==60:\n",
    "            min_=0\n",
    "            hr=0 if hr==23 else hr+1\n",
    "        print(time)\n",
    "        if len(uni_)!=2:\n",
    "            time=\"%02d:%02d\"%(hr,min_)\n",
    "        else:\n",
    "            return time\n",
    "        if set(time)<=uni_: \n",
    "            flag=0\n",
    "            return time\n",
    "            \n",
    "        \n",
    "    return time\n",
    "    "
   ]
  },
  {
   "cell_type": "code",
   "execution_count": 93,
   "metadata": {},
   "outputs": [
    {
     "name": "stdout",
     "output_type": "stream",
     "text": [
      "11:13\n",
      "11:12\n"
     ]
    },
    {
     "data": {
      "text/plain": [
       "'11:11'"
      ]
     },
     "execution_count": 93,
     "metadata": {},
     "output_type": "execute_result"
    }
   ],
   "source": [
    "nextClosestTime(time=\"11:13\")"
   ]
  },
  {
   "cell_type": "code",
   "execution_count": 2,
   "metadata": {},
   "outputs": [
    {
     "data": {
      "text/plain": [
       "{'2', '3', '4', ':'}"
      ]
     },
     "execution_count": 2,
     "metadata": {},
     "output_type": "execute_result"
    }
   ],
   "source": [
    "def nextClosestTime(self, time):        \n",
    "        s = set(time)\n",
    "        hour = int(time[0:2])\n",
    "        minute = int(time[3:5])\n",
    "        while True:\n",
    "            minute += 1\n",
    "            if minute == 60:\n",
    "                minute = 0\n",
    "                hour = 0 if hour == 23 else hour + 1\n",
    "            \n",
    "            time = \"%02d:%02d\" % (hour, minute)\n",
    "            if set(time) <= s:\n",
    "                return time\n",
    "        return time"
   ]
  },
  {
   "cell_type": "code",
   "execution_count": 5,
   "metadata": {},
   "outputs": [
    {
     "data": {
      "text/plain": [
       "'22'"
      ]
     },
     "execution_count": 5,
     "metadata": {},
     "output_type": "execute_result"
    }
   ],
   "source": [
    "time[0:-3]"
   ]
  },
  {
   "cell_type": "code",
   "execution_count": 6,
   "metadata": {},
   "outputs": [
    {
     "data": {
      "text/plain": [
       "'34'"
      ]
     },
     "execution_count": 6,
     "metadata": {},
     "output_type": "execute_result"
    }
   ],
   "source": [
    "time[-2:]"
   ]
  },
  {
   "cell_type": "code",
   "execution_count": 116,
   "metadata": {},
   "outputs": [],
   "source": [
    "#Blossoms days\n",
    "def kEmptySlots(flowers, k,m):\n",
    "        \n",
    "        days = [0] * len(flowers)\n",
    "        for i in range(len(flowers)):\n",
    "            days[flowers[i]-1] = i\n",
    "        result = float(\"inf\")\n",
    "        i, left, right = 0, 0, k+1\n",
    "        while right < len(days):\n",
    "            if days[i] < days[left] or days[i] <= days[right]:\n",
    "                if i == right:\n",
    "                    result = min(result, max(days[left], days[right]))\n",
    "                left, right = i, k+1+i;\n",
    "            i += 1\n",
    "        return -1 if result == float(\"inf\") else result+1"
   ]
  },
  {
   "cell_type": "code",
   "execution_count": 117,
   "metadata": {},
   "outputs": [
    {
     "data": {
      "text/plain": [
       "-1"
      ]
     },
     "execution_count": 117,
     "metadata": {},
     "output_type": "execute_result"
    }
   ],
   "source": [
    "a=[1,2,7,6,4,3,5]\n",
    "k=2\n",
    "m=2\n",
    "kEmptySlots(a,k,m)"
   ]
  },
  {
   "cell_type": "code",
   "execution_count": 119,
   "metadata": {},
   "outputs": [],
   "source": [
    "def solution(A,K,M):\n",
    "    days=[0]*len(A)\n",
    "    for i in range(len(A)):\n",
    "        days[A[i]-1]=i\n",
    "    result=float(\"inf\")\n",
    "    i,left, right=0,0,k+1\n",
    "    while right<len(days):\n",
    "        if days[i]<days[left] or days[i]<=days[right]:\n",
    "            if i == right and m==2:\n",
    "                result = min(result, max(days[left], days[right]))\n",
    "                left, right = i, k+1+i;\n",
    "            i += 1\n",
    "        return -1 if result == float(\"inf\") else result+1\n",
    "            "
   ]
  },
  {
   "cell_type": "code",
   "execution_count": 121,
   "metadata": {},
   "outputs": [
    {
     "data": {
      "text/plain": [
       "-1"
      ]
     },
     "execution_count": 121,
     "metadata": {},
     "output_type": "execute_result"
    }
   ],
   "source": [
    "solution(a,k,2)"
   ]
  },
  {
   "cell_type": "code",
   "execution_count": null,
   "metadata": {},
   "outputs": [],
   "source": []
  }
 ],
 "metadata": {
  "kernelspec": {
   "display_name": "Python 3",
   "language": "python",
   "name": "python3"
  },
  "language_info": {
   "codemirror_mode": {
    "name": "ipython",
    "version": 3
   },
   "file_extension": ".py",
   "mimetype": "text/x-python",
   "name": "python",
   "nbconvert_exporter": "python",
   "pygments_lexer": "ipython3",
   "version": "3.6.2"
  }
 },
 "nbformat": 4,
 "nbformat_minor": 2
}
