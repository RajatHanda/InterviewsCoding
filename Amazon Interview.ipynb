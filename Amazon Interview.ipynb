{
 "cells": [
  {
   "cell_type": "code",
   "execution_count": 18,
   "metadata": {},
   "outputs": [
    {
     "data": {
      "text/plain": [
       "'https://tinyurl.com/-4791989579228340977'"
      ]
     },
     "execution_count": 18,
     "metadata": {},
     "output_type": "execute_result"
    }
   ],
   "source": [
    "class te:\n",
    "    def encode(longUrl):\n",
    "        \"\"\"Encodes a URL to a shortened URL.\n",
    "    \n",
    "        :type longUrl: str\n",
    "        :rtype: str\n",
    "        \"\"\"\n",
    "    \n",
    "        hash1= {}\n",
    "        if longUrl not in hash1:\n",
    "            idx=hash(longUrl)\n",
    "            hash1[idx]=longUrl\n",
    "        final_string='https://tinyurl.com/'+str(idx)\n",
    "        return (final_string)\n",
    "\n",
    "\n",
    "te.encode(\"https://leetcode.com/problems/design-tinyurl\")\n"
   ]
  },
  {
   "cell_type": "code",
   "execution_count": 19,
   "metadata": {},
   "outputs": [
    {
     "data": {
      "text/plain": [
       "2147483679"
      ]
     },
     "execution_count": 19,
     "metadata": {},
     "output_type": "execute_result"
    }
   ],
   "source": [
    "(31 + 0x80000000) & 0xFFFFFFFF"
   ]
  },
  {
   "cell_type": "code",
   "execution_count": 20,
   "metadata": {},
   "outputs": [
    {
     "data": {
      "text/plain": [
       "2147483648"
      ]
     },
     "execution_count": 20,
     "metadata": {},
     "output_type": "execute_result"
    }
   ],
   "source": [
    "0x80000000"
   ]
  },
  {
   "cell_type": "code",
   "execution_count": 21,
   "metadata": {},
   "outputs": [
    {
     "data": {
      "text/plain": [
       "4294967295"
      ]
     },
     "execution_count": 21,
     "metadata": {},
     "output_type": "execute_result"
    }
   ],
   "source": [
    "0xFFFFFFFF"
   ]
  },
  {
   "cell_type": "code",
   "execution_count": 25,
   "metadata": {},
   "outputs": [
    {
     "data": {
      "text/plain": [
       "['http', '', '1234353535']"
      ]
     },
     "execution_count": 25,
     "metadata": {},
     "output_type": "execute_result"
    }
   ],
   "source": [
    "shorturl=\"http//1234353535\"\n",
    "shorturl.split('/')"
   ]
  },
  {
   "cell_type": "code",
   "execution_count": 27,
   "metadata": {},
   "outputs": [],
   "source": [
    "chars = [chr(d) for d in range(ord('0'), ord('9')+1)]"
   ]
  },
  {
   "cell_type": "code",
   "execution_count": 34,
   "metadata": {},
   "outputs": [
    {
     "data": {
      "text/plain": [
       "122"
      ]
     },
     "execution_count": 34,
     "metadata": {},
     "output_type": "execute_result"
    }
   ],
   "source": [
    "dec //= 62"
   ]
  },
  {
   "cell_type": "code",
   "execution_count": 30,
   "metadata": {},
   "outputs": [
    {
     "data": {
      "text/plain": [
       "['A',\n",
       " 'B',\n",
       " 'C',\n",
       " 'D',\n",
       " 'E',\n",
       " 'F',\n",
       " 'G',\n",
       " 'H',\n",
       " 'I',\n",
       " 'J',\n",
       " 'K',\n",
       " 'L',\n",
       " 'M',\n",
       " 'N',\n",
       " 'O',\n",
       " 'P',\n",
       " 'Q',\n",
       " 'R',\n",
       " 'S',\n",
       " 'T',\n",
       " 'U',\n",
       " 'V',\n",
       " 'W',\n",
       " 'X',\n",
       " 'Y',\n",
       " 'Z']"
      ]
     },
     "execution_count": 30,
     "metadata": {},
     "output_type": "execute_result"
    }
   ],
   "source": [
    "[chr(d) for d in range(ord('A'), ord('Z')+1)]"
   ]
  },
  {
   "cell_type": "code",
   "execution_count": 42,
   "metadata": {},
   "outputs": [],
   "source": [
    "dec=13\n",
    "dec //= 2"
   ]
  },
  {
   "cell_type": "code",
   "execution_count": 285,
   "metadata": {},
   "outputs": [
    {
     "data": {
      "text/plain": [
       "'ghi'"
      ]
     },
     "execution_count": 285,
     "metadata": {},
     "output_type": "execute_result"
    }
   ],
   "source": [
    "import re\n",
    "inpt=\"abcdefghi\"\n",
    "result = re.sub('abcdef(ghi)', r'\\1', inpt) \n",
    "result"
   ]
  },
  {
   "cell_type": "code",
   "execution_count": 45,
   "metadata": {},
   "outputs": [],
   "source": [
    "import string\n",
    "letters = string.ascii_letters + string.digits"
   ]
  },
  {
   "cell_type": "code",
   "execution_count": 48,
   "metadata": {},
   "outputs": [],
   "source": [
    "class Codec:\n",
    "    import string\n",
    "    letters = string.ascii_letters + string.digits\n",
    "    full_tiny = {}\n",
    "    tiny_full = {}\n",
    "    global_counter = 0\n",
    "    def encode(self, longUrl):\n",
    "        \"\"\"Encodes a URL to a shortened URL.\n",
    "        \n",
    "        :type longUrl: str\n",
    "        :rtype: str\n",
    "        \"\"\"\n",
    "        def decto62(dec):\n",
    "            ans = \"\"\n",
    "            while 1:\n",
    "                ans = self.letters[dec % 62] + ans\n",
    "                dec //= 62\n",
    "                if not dec:\n",
    "                    break\n",
    "            return ans\n",
    "                \n",
    "        suffix = decto62(self.global_counter)\n",
    "        if longUrl not in self.full_tiny:\n",
    "            self.full_tiny[longUrl] = suffix\n",
    "            self.tiny_full[suffix] = longUrl\n",
    "            self.global_counter += 1\n",
    "        return \"http://tinyurl.com/\" + suffix\n",
    "        \n",
    "        \n",
    "\n",
    "    def decode(self, shortUrl):\n",
    "        \"\"\"Decodes a shortened URL to its original URL.\n",
    "        \n",
    "        :type shortUrl: str\n",
    "        :rtype: str\n",
    "        \"\"\"\n",
    "        idx = shortUrl.split('/')[-1]\n",
    "        if idx in self.tiny_full:\n",
    "            return self.tiny_full[idx]\n",
    "        else:\n",
    "            return None"
   ]
  },
  {
   "cell_type": "code",
   "execution_count": 57,
   "metadata": {},
   "outputs": [
    {
     "data": {
      "text/plain": [
       "'http://tinyurl.com/c'"
      ]
     },
     "execution_count": 57,
     "metadata": {},
     "output_type": "execute_result"
    }
   ],
   "source": [
    "\n",
    "a=Codec\n",
    "a.encode( a,\"http/lol1234556778888\")"
   ]
  },
  {
   "cell_type": "code",
   "execution_count": 59,
   "metadata": {},
   "outputs": [],
   "source": [
    "Num_gen=[chr(d) for d in range(ord('0'),ord('9')+1)]\n",
    "Num_gen.extend([chr(d) for d in range(ord('a'),ord('z')+1)])\n",
    "Num_gen.extend([chr(d) for d in range(ord('A'),ord('Z')+1)])"
   ]
  },
  {
   "cell_type": "code",
   "execution_count": 60,
   "metadata": {},
   "outputs": [
    {
     "data": {
      "text/plain": [
       "['0',\n",
       " '1',\n",
       " '2',\n",
       " '3',\n",
       " '4',\n",
       " '5',\n",
       " '6',\n",
       " '7',\n",
       " '8',\n",
       " '9',\n",
       " 'a',\n",
       " 'b',\n",
       " 'c',\n",
       " 'd',\n",
       " 'e',\n",
       " 'f',\n",
       " 'g',\n",
       " 'h',\n",
       " 'i',\n",
       " 'j',\n",
       " 'k',\n",
       " 'l',\n",
       " 'm',\n",
       " 'n',\n",
       " 'o',\n",
       " 'p',\n",
       " 'q',\n",
       " 'r',\n",
       " 's',\n",
       " 't',\n",
       " 'u',\n",
       " 'v',\n",
       " 'w',\n",
       " 'x',\n",
       " 'y',\n",
       " 'z',\n",
       " 'A',\n",
       " 'B',\n",
       " 'C',\n",
       " 'D',\n",
       " 'E',\n",
       " 'F',\n",
       " 'G',\n",
       " 'H',\n",
       " 'I',\n",
       " 'J',\n",
       " 'K',\n",
       " 'L',\n",
       " 'M',\n",
       " 'N',\n",
       " 'O',\n",
       " 'P',\n",
       " 'Q',\n",
       " 'R',\n",
       " 'S',\n",
       " 'T',\n",
       " 'U',\n",
       " 'V',\n",
       " 'W',\n",
       " 'X',\n",
       " 'Y',\n",
       " 'Z']"
      ]
     },
     "execution_count": 60,
     "metadata": {},
     "output_type": "execute_result"
    }
   ],
   "source": [
    "Num_gen"
   ]
  },
  {
   "cell_type": "code",
   "execution_count": 68,
   "metadata": {},
   "outputs": [
    {
     "data": {
      "text/plain": [
       "'a'"
      ]
     },
     "execution_count": 68,
     "metadata": {},
     "output_type": "execute_result"
    }
   ],
   "source": [
    "chr(97)"
   ]
  },
  {
   "cell_type": "code",
   "execution_count": 71,
   "metadata": {},
   "outputs": [
    {
     "data": {
      "text/plain": [
       "90"
      ]
     },
     "execution_count": 71,
     "metadata": {},
     "output_type": "execute_result"
    }
   ],
   "source": [
    "ord('Z')"
   ]
  },
  {
   "cell_type": "code",
   "execution_count": 81,
   "metadata": {},
   "outputs": [],
   "source": [
    "hash_map1={}\n",
    "import random\n",
    "dict_map = {}\n",
    "\n",
    "class Codec:\n",
    "    \n",
    "    def encode(self, longUrl):\n",
    "        \"\"\"Encodes a URL to a shortened URL.\n",
    "        \n",
    "        :type longUrl: str\n",
    "        :rtype: str\n",
    "        \"\"\"\n",
    "        Num_gen=[chr(d) for d in range(ord('0'),ord('9')+1)]\n",
    "        Num_gen.extend([chr(d) for d in range(ord('a'),ord('z')+1)])\n",
    "        Num_gen.extend([chr(d) for d in range(ord('A'),ord('Z')+1)])\n",
    "        an1=''\n",
    "        it_1=7\n",
    "        for i in range(it_1):\n",
    "            an1+=Num_gen[(random.randint(0,61))]\n",
    "        \n",
    "            hash_map1[an1]=longUrl\n",
    "        return \"https://tinyurl/\"+an1\n",
    "        \n",
    "        \n",
    "        \n",
    "\n",
    "    def decode(self, shortUrl):\n",
    "        \"\"\"Decodes a shortened URL to its original URL.\n",
    "        \n",
    "        :type shortUrl: str\n",
    "        :rtype: str\n",
    "        \"\"\"\n",
    "        return hash_map1.get(shortUrl.split(\"/\")[-1])\n",
    "        \n",
    "\n"
   ]
  },
  {
   "cell_type": "code",
   "execution_count": 82,
   "metadata": {},
   "outputs": [
    {
     "name": "stdout",
     "output_type": "stream",
     "text": [
      "x\n",
      "xG\n",
      "xGm\n",
      "xGma\n",
      "xGmaI\n",
      "xGmaIG\n",
      "xGmaIGx\n"
     ]
    },
    {
     "data": {
      "text/plain": [
       "'https://tinyurl/xGmaIGx'"
      ]
     },
     "execution_count": 82,
     "metadata": {},
     "output_type": "execute_result"
    }
   ],
   "source": [
    "a=Codec\n",
    "a.encode( a,\"http/lol1234556778888\")"
   ]
  },
  {
   "cell_type": "code",
   "execution_count": 80,
   "metadata": {},
   "outputs": [
    {
     "data": {
      "text/plain": [
       "{'XUXUXUXUXUXUXUXUXUXUXUXUXUXUXUXUXUXUXUXUXUXUXUXUXUXUXUXUXUXUXUXUXUXUXUXUXUXUXUXUXUXUXUXUXUXUXUXUXUXUXUXUXUXUXUXUXUXUXUXUXUXUXUXUXUXUXUXUXUXUXUXUXUXUXUXUXUXUXUXUXUXUXUXUXUXUXUXUXUXUXUXUXUXUXUXUXUXUXUXUXUXUXUXUXUXUXUXUXUXUXUXUXUXUXUXUXUXUXUXUXUXUXUXUXUXUXUXUXUXUXUXUXUXUXUXUXUXUXUXUXUXUXUXUXUXUXUXUXUXUXUXUXUXUXUXUXUXUXUXUXUXUXUXUXUXUXUXUXUXUXUXUXUXUXUXUXUXUXUXUXUXUXUXUXUXUXUXUXUXUXUXUXUXUXUXUXUXUXUXUXUXUXUXUXUXUXUXUXUXUXUXUXUXUXUXUXUXUXUXUXUXUXUXUXUXUXUXUXUXUXUXUXUXUXUXUXUXUXUXUXUXUXUXUXUXUXUXUXUXUXUXUXUXUXUXUXUXUXUXUXUXUXUXUXUXUXUXUXUXUXUXUXUXUXUXUXUXUXUXUXUXUXUXUXUXUXUXUXUXUXUXUXUXUXUXUXUXUXUXUXUXUXUXUXUXUXUXUXUXUXUXUXUXUXUXUXUXUXUXUXUXUXUXUXUXUXUXUXUXUXUXUXUXUXUXUXUXUXUXUXUXUXUXUXUXUXUXUXUXUXUXUXUXUXUXUXUXUXUXUXUXUXUXUXUXUXUXUXUXUXUXUXUXUXUXUXUXUXUXUXUXUXUXUXUXUXUXUXUXUXUXUXUXUXUXUXUXUXUXUXUXUXUXUXUXUXUXUXUXUXUXUXUXUXUXUXUXUXUXUXUXUXUXUXUXUXUXUXUXUXUXUXUXUXUXUXUXUXUXUXUXUXUXUXUXUXUXUXUXUXUXUXUXUXUXUXUXUXUXUXUXUXUXUXUXUXUXUXUXUXUXUXUXUXUXUXUXUXUXUXUXUXUXUXUXUXUXUXUXUXUXUXUXUXUXUXUXUXUXUXUXUXUXUXUXUXUXUXUXUXUXUXUXUXUXUXUXUXUXUXUXUXUXUXUXUXUXUXUXUXUXUXUXUXUXUXUXUXUXUXUXUXUXUXUXUXUXUXUXUXUXUXUXUXUXUXUXUXUXUXUXUXUXUXUXUXUXUXUXUXUXUXUXUXUXUXUXUXUXUXUXUXUXUXUXUXUXUXUXUXUXUXUXUXUXUXUXUXUXUXUXUXUXUXUXUXUXUXUXUXUXUXUXUXUXUXUXUXUXUXUXUXUXUXUXUXUXUXUXUXUXUXUXUXUXUXUXUXUXUXUXUXUXUXUXUXUXUXUXUXUXUXUXUXUXUXUXUXUXUXUXUXUXUXUXUXUXUXUXUXUXUXUXUXUXUXUXUXUXUXUXUXUXUXUXUXUXUXUXUXUXUXUXUXUXUXUXUXUXUXUXUXUXUXUXUXUXUXUXUXUXUXUXUXUXUXUXUXUXUXUXUXUXUXUXUXUXUXUXUXUXUXUXUXUXUXUXUXUXUXUXUXUXUXUXUXUXUXUXUXUXUXUXUXUXUXUXUXUXUXU': 'http/lol1234556778888',\n",
       " 'XUjVHBEXUjVHBEXUjVHBEXUjVHBEXUjVHBEXUjVHBEXUjVHBEXUjVHBEXUjVHBEXUjVHBEXUjVHBEXUjVHBEXUjVHBEXUjVHBEXUjVHBEXUjVHBEXUjVHBEXUjVHBEXUjVHBEXUjVHBEXUjVHBEXUjVHBEXUjVHBEXUjVHBEXUjVHBEXUjVHBEXUjVHBEXUjVHBEXUjVHBEXUjVHBEXUjVHBEXUjVHBEXUjVHBEXUjVHBEXUjVHBEXUjVHBEXUjVHBEXUjVHBEXUjVHBEXUjVHBEXUjVHBEXUjVHBEXUjVHBEXUjVHBEXUjVHBEXUjVHBEXUjVHBEXUjVHBEXUjVHBEXUjVHBEXUjVHBEXUjVHBEXUjVHBEXUjVHBEXUjVHBEXUjVHBEXUjVHBEXUjVHBEXUjVHBEXUjVHBEXUjVHBEXUjVHBEXUjVHBEXUjVHBEXUjVHBEXUjVHBEXUjVHBEXUjVHBEXUjVHBEXUjVHBEXUjVHBEXUjVHBEXUjVHBEXUjVHBEXUjVHBEXUjVHBEXUjVHBEXUjVHBEXUjVHBEXUjVHBEXUjVHBEXUjVHBEXUjVHBEXUjVHBEXUjVHBEXUjVHBEXUjVHBEXUjVHBEXUjVHBEXUjVHBEXUjVHBEXUjVHBEXUjVHBEXUjVHBEXUjVHBEXUjVHBEXUjVHBEXUjVHBEXUjVHBEXUjVHBEXUjVHBEXUjVHBEXUjVHBEXUjVHBEXUjVHBEXUjVHBEXUjVHBEXUjVHBEXUjVHBEXUjVHBEXUjVHBEXUjVHBEXUjVHBEXUjVHBEXUjVHBEXUjVHBEXUjVHBEXUjVHBEXUjVHBEXUjVHBEXUjVHBEXUjVHBEXUjVHBEXUjVHBEXUjVHBEXUjVHBEXUjVHBEXUjVHBEXUjVHBEXUjVHBEXUjVHBEXUjVHBEXUjVHBEXUjVHBEXUjVHBEXUjVHBEXUjVHBEXUjVHBEXUjVHBEXUjVHBEXUjVHBEXUjVHBEXUjVHBEXUjVHBEXUjVHBEXUjVHBEXUjVHBEXUjVHBEXUjVHBEXUjVHBEXUjVHBEXUjVHBEXUjVHBEXUjVHBEXUjVHBEXUjVHBEXUjVHBEXUjVHBEXUjVHBEXUjVHBEXUjVHBEXUjVHBEXUjVHBEXUjVHBEXUjVHBEXUjVHBEXUjVHBEXUjVHBEXUjVHBEXUjVHBEXUjVHBEXUjVHBEXUjVHBEXUjVHBEXUjVHBEXUjVHBEXUjVHBEXUjVHBEXUjVHBEXUjVHBEXUjVHBEXUjVHBEXUjVHBEXUjVHBEXUjVHBEXUjVHBEXUjVHBEXUjVHBEXUjVHBEXUjVHBEXUjVHBEXUjVHBEXUjVHBEXUjVHBEXUjVHBEXUjVHBEXUjVHBEXUjVHBEXUjVHBEXUjVHBEXUjVHBEXUjVHBEXUjVHBEXUjVHBEXUjVHBEXUjVHBEXUjVHBEXUjVHBEXUjVHBEXUjVHBEXUjVHBEXUjVHBEXUjVHBEXUjVHBEXUjVHBEXUjVHBEXUjVHBEXUjVHBEXUjVHBEXUjVHBEXUjVHBEXUjVHBEXUjVHBEXUjVHBEXUjVHBEXUjVHBEXUjVHBEXUjVHBEXUjVHBEXUjVHBEXUjVHBEXUjVHBEXUjVHBEXUjVHBEXUjVHBEXUjVHBEXUjVHBEXUjVHBEXUjVHBEXUjVHBEXUjVHBEXUjVHBEXUjVHBEXUjVHBEXUjVHBEXUjVHBEXUjVHBEXUjVHBEXUjVHBEXUjVHBEXUjVHBEXUjVHBEXUjVHBEXUjVHBEXUjVHBEXUjVHBEXUjVHBEXUjVHBEXUjVHBEXUjVHBEXUjVHBEXUjVHBEXUjVHBEXUjVHBEXUjVHBEXUjVHBEXUjVHBEXUjVHBEXUjVHBEXUjVHBEXUjVHBEXUjVHBEXUjVHBEXUjVHBEXUjVHBEXUjVHBEXUjVHBEXUjVHBEXUjVHBEXUjVHBEXUjVHBEXUjVHBEXUjVHBEXUjVHBEXUjVHBEXUjVHBEXUjVHBEXUjVHBEXUjVHBEXUjVHBEXUjVHBEXUjVHBEXUjVHBEXUjVHBEXUjVHBEXUjVHBEXUjVHBEXUjVHBEXUjVHBEXUjVHBEXUjVHBEXUjVHBEXUjVHBEXUjVHBEXUjVHBEXUjVHBEXUjVHBEXUjVHBEXUjVHBEXUjVHBEXUjVHBEXUjVHBEXUjVHBEXUjVHBEXUjVHBEXUjVHBEXUjVHBEXUjVHBEXUjVHBEXUjVHBEXUjVHBEXUjVHBEXUjVHBEXUjVHBEXUjVHBEXUjVHBEXUjVHBEXUjVHBEXUjVHBEXUjVHBEXUjVHBEXUjVHBEXUjVHBEXUjVHBEXUjVHBEXUjVHBEXUjVHBEXUjVHBEXUjVHBEXUjVHBEXUjVHBEXUjVHBEXUjVHBEXUjVHBEXUjVHBEXUjVHBEXUjVHBEXUjVHBEXUjVHBEXUjVHBEXUjVHBEXUjVHBEXUjVHBEXUjVHBEXUjVHBEXUjVHBEXUjVHBEXUjVHBEXUjVHBEXUjVHBEXUjVHBEXUjVHBEXUjVHBEXUjVHBEXUjVHBEXUjVHBEXUjVHBEXUjVHBEXUjVHBEXUjVHBEXUjVHBEXUjVHBEXUjVHBEXUjVHBEXUjVHBEXUjVHBEXUjVHBEXUjVHBEXUjVHBEXUjVHBEXUjVHBEXUjVHBEXUjVHBEXUjVHBEXUjVHBEXUjVHBEXUjVHBEXUjVHBEXUjVHBEXUjVHBEXUjVHBEXUjVHBEXUjVHBEXUjVHBEXUjVHBEXUjVHBEXUjVHBEXUjVHBEXUjVHBEXUjVHBEXUjVHBEXUjVHBEXUjVHBEXUjVHBEXUjVHBEXUjVHBEXUjVHBEXUjVHBEXUjVHBEXUjVHBEXUjVHBEXUjVHBEXUjVHBEXUjVHBEXUjVHBEXUjVHBEXUjVHBEXUjVHBEXUjVHBEXUjVHBEXUjVHBEXUjVHBEXUjVHBEXUjVHBEXUjVHBEXUjVHBEXUjVHBEXUjVHBEXUjVHBEXUjVHBEXUjVHBEXUjVHBEXUjVHBEXUjVHBEXUjVHBEXUjVHBEXUjVHBEXUjVHBEXUjVHBEXUjVHBEXUjVHBEXUjVHBEXUjVHBEXUjVHBEXUjVHBEXUjVHBEXUjVHBEXUjVHBEXUjVHBEXUjVHBEXUjVHBEXUjVHBEXUjVHBEXUjVHBEXUjVHBEXUjVHBEXUjVHBEXUjVHBEXUjVHBEXUjVHBEXUjVHBEXUjVHBEXUjVHBEXUjVHBEXUjVHBEXUjVHBEXUjVHBEXUjVHBEXUjVHBEXUjVHBEXUjVHBEXUjVHBEXUjVHBEXUjVHBEXUjVHBEXUjVHBEXUjVHBEXUjVHBEXUjVHBEXUjVHBEXUjVHBEXUjVHBEXUjVHBEXUjVHBEXUjVHBEXUjVHBEXUjVHBEXUjVHBEXUjVHBEXUjVHBEXUjVHBEXUjVHBEXUjVHBEXUjVHBEXUjVHBEXUjVHBEXUjVHBEXUjVHBEXUjVHBEXUjVHBEXUjVHBEXUjVHBEXUjVHBEXUjVHBEXUjVHBEXUjVHBEXUjVHBEXUjVHBEXUjVHBEXUjVHBEXUjVHBEXUjVHBEXUjVHBEXUjVHBEXUjVHBEXUjVHBEXUjVHBEXUjVHBEXUjVHBEXUjVHBEXUjVHBEXUjVHBEXUjVHBEXUjVHBEXUjVHBEXUjVHBEXUjVHBEXUjVHBEXUjVHBEXUjVHBEXUjVHBEXUjVHBEXUjVHBEXUjVHBEXUjVHBEXUjVHBEXUjVHBEXUjVHBEXUjVHBEXUjVHBEXUjVHBEXUjVHBEXUjVHBEXUjVHBEXUjVHBEXUjVHBEXUjVHBEXUjVHBEXUjVHBEXUjVHBEXUjVHBEXUjVHBEXUjVHBEXUjVHBEXUjVHBEXUjVHBEXUjVHBEXUjVHBEXUjVHBEXUjVHBEXUjVHBEXUjVHBEXUjVHBEXUjVHBEXUjVHBEXUjVHBEXUjVHBEXUjVHBEXUjVHBEXUjVHBEXUjVHBEXUjVHBEXUjVHBEXUjVHBEXUjVHBEXUjVHBEXUjVHBEXUjVHBEXUjVHBEXUjVHBEXUjVHBEXUjVHBEXUjVHBEXUjVHBEXUjVHBEXUjVHBEXUjVHBEXUjVHBEXUjVHBEXUjVHBEXUjVHBEXUjVHBEXUjVHBEXUjVHBEXUjVHBEXUjVHBEXUjVHBEXUjVHBEXUjVHBEXUjVHBEXUjVHBEXUjVHBEXUjVHBEXUjVHBEXUjVHBEXUjVHBEXUjVHBEXUjVHBEXUjVHBEXUjVHBEXUjVHBEXUjVHBEXUjVHBEXUjVHBEXUjVHBEXUjVHBEXUjVHBEXUjVHBEXUjVHBEXUjVHBEXUjVHBEXUjVHBEXUjVHBEXUjVHBEXUjVHBEXUjVHBEXUjVHBEXUjVHBEXUjVHBEXUjVHBEXUjVHBEXUjVHBEXUjVHBEXUjVHBEXUjVHBEXUjVHBEXUjVHBEXUjVHBEXUjVHBEXUjVHBEXUjVHBEXUjVHBEXUjVHBEXUjVHBEXUjVHBEXUjVHBEXUjVHBEXUjVHBEXUjVHBEXUjVHBEXUjVHBEXUjVHBEXUjVHBEXUjVHBEXUjVHBEXUjVHBEXUjVHBEXUjVHBEXUjVHBEXUjVHBEXUjVHBEXUjVHBEXUjVHBEXUjVHBEXUjVHBEXUjVHBEXUjVHBEXUjVHBEXUjVHBEXUjVHBEXUjVHBEXUjVHBEXUjVHBEXUjVHBEXUjVHBEXUjVHBEXUjVHBEXUjVHBEXUjVHBEXUjVHBEXUjVHBEXUjVHBEXUjVHBEXUjVHBEXUjVHBEXUjVHBEXUjVHBEXUjVHBEXUjVHBEXUjVHBEXUjVHBEXUjVHBEXUjVHBEXUjVHBEXUjVHBEXUjVHBEXUjVHBEXUjVHBEXUjVHBEXUjVHBEXUjVHBEXUjVHBEXUjVHBEXUjVHBEXUjVHBEXUjVHBEXUjVHBEXUjVHBEXUjVHBEXUjVHBEXUjVHBEXUjVHBEXUjVHBEXUjVHBEXUjVHBEXUjVHBEXUjVHBEXUjVHBEXUjVHBEXUjVHBEXUjVHBEXUjVHBEXUjVHBEXUjVHBEXUjVHBEXUjVHBEXUjVHBEXUjVHBEXUjVHBEXUjVHBEXUjVHBEXUjVHBEXUjVHBEXUjVHBEXUjVHBEXUjVHBEXUjVHBEXUjVHBEXUjVHBEXUjVHBEXUjVHBEXUjVHBEXUjVHBEXUjVHBEXUjVHBEXUjVHBEXUjVHBEXUjVHBEXUjVHBEXUjVHBEXUjVHBEXUjVHBEXUjVHBEXUjVHBEXUjVHBEXUjVHBEXUjVHBEXUjVHBEXUjVHBEXUjVHBEXUjVHBE': 'http/lol1234556778888',\n",
       " 'XUjVHBXUjVHBXUjVHBXUjVHBXUjVHBXUjVHBXUjVHBXUjVHBXUjVHBXUjVHBXUjVHBXUjVHBXUjVHBXUjVHBXUjVHBXUjVHBXUjVHBXUjVHBXUjVHBXUjVHBXUjVHBXUjVHBXUjVHBXUjVHBXUjVHBXUjVHBXUjVHBXUjVHBXUjVHBXUjVHBXUjVHBXUjVHBXUjVHBXUjVHBXUjVHBXUjVHBXUjVHBXUjVHBXUjVHBXUjVHBXUjVHBXUjVHBXUjVHBXUjVHBXUjVHBXUjVHBXUjVHBXUjVHBXUjVHBXUjVHBXUjVHBXUjVHBXUjVHBXUjVHBXUjVHBXUjVHBXUjVHBXUjVHBXUjVHBXUjVHBXUjVHBXUjVHBXUjVHBXUjVHBXUjVHBXUjVHBXUjVHBXUjVHBXUjVHBXUjVHBXUjVHBXUjVHBXUjVHBXUjVHBXUjVHBXUjVHBXUjVHBXUjVHBXUjVHBXUjVHBXUjVHBXUjVHBXUjVHBXUjVHBXUjVHBXUjVHBXUjVHBXUjVHBXUjVHBXUjVHBXUjVHBXUjVHBXUjVHBXUjVHBXUjVHBXUjVHBXUjVHBXUjVHBXUjVHBXUjVHBXUjVHBXUjVHBXUjVHBXUjVHBXUjVHBXUjVHBXUjVHBXUjVHBXUjVHBXUjVHBXUjVHBXUjVHBXUjVHBXUjVHBXUjVHBXUjVHBXUjVHBXUjVHBXUjVHBXUjVHBXUjVHBXUjVHBXUjVHBXUjVHBXUjVHBXUjVHBXUjVHBXUjVHBXUjVHBXUjVHBXUjVHBXUjVHBXUjVHBXUjVHBXUjVHBXUjVHBXUjVHBXUjVHBXUjVHBXUjVHBXUjVHBXUjVHBXUjVHBXUjVHBXUjVHBXUjVHBXUjVHBXUjVHBXUjVHBXUjVHBXUjVHBXUjVHBXUjVHBXUjVHBXUjVHBXUjVHBXUjVHBXUjVHBXUjVHBXUjVHBXUjVHBXUjVHBXUjVHBXUjVHBXUjVHBXUjVHBXUjVHBXUjVHBXUjVHBXUjVHBXUjVHBXUjVHBXUjVHBXUjVHBXUjVHBXUjVHBXUjVHBXUjVHBXUjVHBXUjVHBXUjVHBXUjVHBXUjVHBXUjVHBXUjVHBXUjVHBXUjVHBXUjVHBXUjVHBXUjVHBXUjVHBXUjVHBXUjVHBXUjVHBXUjVHBXUjVHBXUjVHBXUjVHBXUjVHBXUjVHBXUjVHBXUjVHBXUjVHBXUjVHBXUjVHBXUjVHBXUjVHBXUjVHBXUjVHBXUjVHBXUjVHBXUjVHBXUjVHBXUjVHBXUjVHBXUjVHBXUjVHBXUjVHBXUjVHBXUjVHBXUjVHBXUjVHBXUjVHBXUjVHBXUjVHBXUjVHBXUjVHBXUjVHBXUjVHBXUjVHBXUjVHBXUjVHBXUjVHBXUjVHBXUjVHBXUjVHBXUjVHBXUjVHBXUjVHBXUjVHBXUjVHBXUjVHBXUjVHBXUjVHBXUjVHBXUjVHBXUjVHBXUjVHBXUjVHBXUjVHBXUjVHBXUjVHBXUjVHBXUjVHBXUjVHBXUjVHBXUjVHBXUjVHBXUjVHBXUjVHBXUjVHBXUjVHBXUjVHBXUjVHBXUjVHBXUjVHBXUjVHBXUjVHBXUjVHBXUjVHBXUjVHBXUjVHBXUjVHBXUjVHBXUjVHBXUjVHBXUjVHBXUjVHBXUjVHBXUjVHBXUjVHBXUjVHBXUjVHBXUjVHBXUjVHBXUjVHBXUjVHBXUjVHBXUjVHBXUjVHBXUjVHBXUjVHBXUjVHBXUjVHBXUjVHBXUjVHBXUjVHBXUjVHBXUjVHBXUjVHBXUjVHBXUjVHBXUjVHBXUjVHBXUjVHBXUjVHBXUjVHBXUjVHBXUjVHBXUjVHBXUjVHBXUjVHBXUjVHBXUjVHBXUjVHBXUjVHBXUjVHBXUjVHBXUjVHBXUjVHBXUjVHBXUjVHBXUjVHBXUjVHBXUjVHBXUjVHBXUjVHBXUjVHBXUjVHBXUjVHBXUjVHBXUjVHBXUjVHBXUjVHBXUjVHBXUjVHBXUjVHBXUjVHBXUjVHBXUjVHBXUjVHBXUjVHBXUjVHBXUjVHBXUjVHBXUjVHBXUjVHBXUjVHBXUjVHBXUjVHBXUjVHBXUjVHBXUjVHBXUjVHBXUjVHBXUjVHBXUjVHBXUjVHBXUjVHBXUjVHBXUjVHBXUjVHBXUjVHBXUjVHBXUjVHBXUjVHBXUjVHBXUjVHBXUjVHBXUjVHBXUjVHBXUjVHBXUjVHBXUjVHBXUjVHBXUjVHBXUjVHBXUjVHBXUjVHBXUjVHBXUjVHBXUjVHBXUjVHBXUjVHBXUjVHBXUjVHBXUjVHBXUjVHBXUjVHBXUjVHBXUjVHBXUjVHBXUjVHBXUjVHBXUjVHBXUjVHBXUjVHBXUjVHBXUjVHBXUjVHBXUjVHBXUjVHBXUjVHBXUjVHBXUjVHBXUjVHBXUjVHBXUjVHBXUjVHBXUjVHBXUjVHBXUjVHBXUjVHBXUjVHBXUjVHBXUjVHBXUjVHBXUjVHBXUjVHBXUjVHBXUjVHBXUjVHBXUjVHBXUjVHBXUjVHBXUjVHBXUjVHBXUjVHBXUjVHBXUjVHBXUjVHBXUjVHBXUjVHBXUjVHBXUjVHBXUjVHBXUjVHBXUjVHBXUjVHBXUjVHBXUjVHBXUjVHBXUjVHBXUjVHBXUjVHBXUjVHBXUjVHBXUjVHBXUjVHBXUjVHBXUjVHBXUjVHBXUjVHBXUjVHBXUjVHBXUjVHBXUjVHBXUjVHBXUjVHBXUjVHBXUjVHBXUjVHBXUjVHBXUjVHBXUjVHBXUjVHBXUjVHBXUjVHBXUjVHBXUjVHBXUjVHBXUjVHBXUjVHBXUjVHBXUjVHBXUjVHBXUjVHBXUjVHBXUjVHBXUjVHBXUjVHBXUjVHBXUjVHBXUjVHBXUjVHBXUjVHBXUjVHBXUjVHBXUjVHBXUjVHBXUjVHBXUjVHBXUjVHBXUjVHBXUjVHBXUjVHBXUjVHBXUjVHBXUjVHBXUjVHBXUjVHBXUjVHBXUjVHBXUjVHBXUjVHBXUjVHBXUjVHBXUjVHBXUjVHBXUjVHBXUjVHBXUjVHBXUjVHBXUjVHBXUjVHBXUjVHBXUjVHBXUjVHBXUjVHBXUjVHBXUjVHBXUjVHBXUjVHBXUjVHBXUjVHBXUjVHBXUjVHBXUjVHBXUjVHBXUjVHBXUjVHBXUjVHBXUjVHBXUjVHBXUjVHBXUjVHBXUjVHBXUjVHBXUjVHBXUjVHBXUjVHBXUjVHBXUjVHBXUjVHBXUjVHBXUjVHBXUjVHBXUjVHBXUjVHBXUjVHBXUjVHBXUjVHBXUjVHBXUjVHBXUjVHBXUjVHBXUjVHBXUjVHBXUjVHBXUjVHBXUjVHBXUjVHBXUjVHBXUjVHBXUjVHBXUjVHBXUjVHBXUjVHBXUjVHBXUjVHBXUjVHBXUjVHBXUjVHBXUjVHBXUjVHBXUjVHBXUjVHBXUjVHBXUjVHBXUjVHBXUjVHBXUjVHBXUjVHBXUjVHBXUjVHBXUjVHBXUjVHBXUjVHBXUjVHBXUjVHBXUjVHBXUjVHBXUjVHBXUjVHBXUjVHBXUjVHBXUjVHBXUjVHBXUjVHBXUjVHBXUjVHBXUjVHBXUjVHBXUjVHBXUjVHBXUjVHBXUjVHBXUjVHBXUjVHBXUjVHBXUjVHBXUjVHBXUjVHBXUjVHBXUjVHBXUjVHBXUjVHBXUjVHBXUjVHBXUjVHBXUjVHBXUjVHBXUjVHBXUjVHBXUjVHBXUjVHBXUjVHBXUjVHBXUjVHBXUjVHBXUjVHBXUjVHBXUjVHBXUjVHBXUjVHBXUjVHBXUjVHBXUjVHBXUjVHBXUjVHBXUjVHBXUjVHBXUjVHBXUjVHBXUjVHBXUjVHBXUjVHBXUjVHBXUjVHBXUjVHBXUjVHBXUjVHBXUjVHBXUjVHBXUjVHBXUjVHBXUjVHBXUjVHBXUjVHBXUjVHBXUjVHBXUjVHBXUjVHBXUjVHBXUjVHBXUjVHBXUjVHBXUjVHBXUjVHBXUjVHBXUjVHBXUjVHBXUjVHBXUjVHBXUjVHBXUjVHBXUjVHBXUjVHBXUjVHBXUjVHBXUjVHBXUjVHBXUjVHBXUjVHBXUjVHBXUjVHBXUjVHBXUjVHBXUjVHBXUjVHBXUjVHBXUjVHBXUjVHBXUjVHBXUjVHBXUjVHBXUjVHBXUjVHBXUjVHBXUjVHBXUjVHBXUjVHBXUjVHBXUjVHBXUjVHBXUjVHBXUjVHBXUjVHBXUjVHBXUjVHBXUjVHBXUjVHBXUjVHBXUjVHBXUjVHBXUjVHBXUjVHBXUjVHBXUjVHBXUjVHBXUjVHBXUjVHBXUjVHBXUjVHBXUjVHBXUjVHBXUjVHBXUjVHBXUjVHBXUjVHBXUjVHBXUjVHBXUjVHBXUjVHBXUjVHBXUjVHBXUjVHBXUjVHBXUjVHBXUjVHBXUjVHBXUjVHBXUjVHBXUjVHBXUjVHBXUjVHBXUjVHBXUjVHBXUjVHBXUjVHBXUjVHBXUjVHBXUjVHBXUjVHBXUjVHBXUjVHBXUjVHBXUjVHBXUjVHBXUjVHBXUjVHB': 'http/lol1234556778888',\n",
       " 'XUjVHXUjVHXUjVHXUjVHXUjVHXUjVHXUjVHXUjVHXUjVHXUjVHXUjVHXUjVHXUjVHXUjVHXUjVHXUjVHXUjVHXUjVHXUjVHXUjVHXUjVHXUjVHXUjVHXUjVHXUjVHXUjVHXUjVHXUjVHXUjVHXUjVHXUjVHXUjVHXUjVHXUjVHXUjVHXUjVHXUjVHXUjVHXUjVHXUjVHXUjVHXUjVHXUjVHXUjVHXUjVHXUjVHXUjVHXUjVHXUjVHXUjVHXUjVHXUjVHXUjVHXUjVHXUjVHXUjVHXUjVHXUjVHXUjVHXUjVHXUjVHXUjVHXUjVHXUjVHXUjVHXUjVHXUjVHXUjVHXUjVHXUjVHXUjVHXUjVHXUjVHXUjVHXUjVHXUjVHXUjVHXUjVHXUjVHXUjVHXUjVHXUjVHXUjVHXUjVHXUjVHXUjVHXUjVHXUjVHXUjVHXUjVHXUjVHXUjVHXUjVHXUjVHXUjVHXUjVHXUjVHXUjVHXUjVHXUjVHXUjVHXUjVHXUjVHXUjVHXUjVHXUjVHXUjVHXUjVHXUjVHXUjVHXUjVHXUjVHXUjVHXUjVHXUjVHXUjVHXUjVHXUjVHXUjVHXUjVHXUjVHXUjVHXUjVHXUjVHXUjVHXUjVHXUjVHXUjVHXUjVHXUjVHXUjVHXUjVHXUjVHXUjVHXUjVHXUjVHXUjVHXUjVHXUjVHXUjVHXUjVHXUjVHXUjVHXUjVHXUjVHXUjVHXUjVHXUjVHXUjVHXUjVHXUjVHXUjVHXUjVHXUjVHXUjVHXUjVHXUjVHXUjVHXUjVHXUjVHXUjVHXUjVHXUjVHXUjVHXUjVHXUjVHXUjVHXUjVHXUjVHXUjVHXUjVHXUjVHXUjVHXUjVHXUjVHXUjVHXUjVHXUjVHXUjVHXUjVHXUjVHXUjVHXUjVHXUjVHXUjVHXUjVHXUjVHXUjVHXUjVHXUjVHXUjVHXUjVHXUjVHXUjVHXUjVHXUjVHXUjVHXUjVHXUjVHXUjVHXUjVHXUjVHXUjVHXUjVHXUjVHXUjVHXUjVHXUjVHXUjVHXUjVHXUjVHXUjVHXUjVHXUjVHXUjVHXUjVHXUjVHXUjVHXUjVHXUjVHXUjVHXUjVHXUjVHXUjVHXUjVHXUjVHXUjVHXUjVHXUjVHXUjVHXUjVHXUjVHXUjVHXUjVHXUjVHXUjVHXUjVHXUjVHXUjVHXUjVHXUjVHXUjVHXUjVHXUjVHXUjVHXUjVHXUjVHXUjVHXUjVHXUjVHXUjVHXUjVHXUjVHXUjVHXUjVHXUjVHXUjVHXUjVHXUjVHXUjVHXUjVHXUjVHXUjVHXUjVHXUjVHXUjVHXUjVHXUjVHXUjVHXUjVHXUjVHXUjVHXUjVHXUjVHXUjVHXUjVHXUjVHXUjVHXUjVHXUjVHXUjVHXUjVHXUjVHXUjVHXUjVHXUjVHXUjVHXUjVHXUjVHXUjVHXUjVHXUjVHXUjVHXUjVHXUjVHXUjVHXUjVHXUjVHXUjVHXUjVHXUjVHXUjVHXUjVHXUjVHXUjVHXUjVHXUjVHXUjVHXUjVHXUjVHXUjVHXUjVHXUjVHXUjVHXUjVHXUjVHXUjVHXUjVHXUjVHXUjVHXUjVHXUjVHXUjVHXUjVHXUjVHXUjVHXUjVHXUjVHXUjVHXUjVHXUjVHXUjVHXUjVHXUjVHXUjVHXUjVHXUjVHXUjVHXUjVHXUjVHXUjVHXUjVHXUjVHXUjVHXUjVHXUjVHXUjVHXUjVHXUjVHXUjVHXUjVHXUjVHXUjVHXUjVHXUjVHXUjVHXUjVHXUjVHXUjVHXUjVHXUjVHXUjVHXUjVHXUjVHXUjVHXUjVHXUjVHXUjVHXUjVHXUjVHXUjVHXUjVHXUjVHXUjVHXUjVHXUjVHXUjVHXUjVHXUjVHXUjVHXUjVHXUjVHXUjVHXUjVHXUjVHXUjVHXUjVHXUjVHXUjVHXUjVHXUjVHXUjVHXUjVHXUjVHXUjVHXUjVHXUjVHXUjVHXUjVHXUjVHXUjVHXUjVHXUjVHXUjVHXUjVHXUjVHXUjVHXUjVHXUjVHXUjVHXUjVHXUjVHXUjVHXUjVHXUjVHXUjVHXUjVHXUjVHXUjVHXUjVHXUjVHXUjVHXUjVHXUjVHXUjVHXUjVHXUjVHXUjVHXUjVHXUjVHXUjVHXUjVHXUjVHXUjVHXUjVHXUjVHXUjVHXUjVHXUjVHXUjVHXUjVHXUjVHXUjVHXUjVHXUjVHXUjVHXUjVHXUjVHXUjVHXUjVHXUjVHXUjVHXUjVHXUjVHXUjVHXUjVHXUjVHXUjVHXUjVHXUjVHXUjVHXUjVHXUjVHXUjVHXUjVHXUjVHXUjVHXUjVHXUjVHXUjVHXUjVHXUjVHXUjVHXUjVHXUjVHXUjVHXUjVHXUjVHXUjVHXUjVHXUjVHXUjVHXUjVHXUjVHXUjVHXUjVHXUjVHXUjVHXUjVHXUjVHXUjVHXUjVHXUjVHXUjVHXUjVHXUjVHXUjVHXUjVHXUjVHXUjVHXUjVHXUjVHXUjVHXUjVHXUjVHXUjVHXUjVHXUjVHXUjVHXUjVHXUjVHXUjVHXUjVHXUjVHXUjVHXUjVHXUjVHXUjVHXUjVHXUjVHXUjVHXUjVHXUjVHXUjVHXUjVHXUjVHXUjVHXUjVHXUjVHXUjVHXUjVHXUjVHXUjVHXUjVHXUjVHXUjVHXUjVHXUjVHXUjVHXUjVHXUjVHXUjVHXUjVHXUjVHXUjVHXUjVHXUjVHXUjVHXUjVHXUjVHXUjVHXUjVHXUjVHXUjVHXUjVHXUjVHXUjVHXUjVHXUjVHXUjVHXUjVHXUjVHXUjVHXUjVHXUjVHXUjVHXUjVHXUjVHXUjVHXUjVHXUjVHXUjVHXUjVHXUjVHXUjVHXUjVHXUjVHXUjVHXUjVHXUjVHXUjVHXUjVHXUjVHXUjVHXUjVHXUjVHXUjVHXUjVHXUjVHXUjVHXUjVHXUjVHXUjVHXUjVHXUjVHXUjVHXUjVHXUjVHXUjVHXUjVHXUjVHXUjVHXUjVHXUjVHXUjVHXUjVHXUjVHXUjVHXUjVHXUjVHXUjVHXUjVHXUjVHXUjVHXUjVHXUjVHXUjVHXUjVHXUjVHXUjVHXUjVHXUjVHXUjVHXUjVHXUjVHXUjVHXUjVHXUjVHXUjVHXUjVHXUjVHXUjVHXUjVHXUjVHXUjVHXUjVHXUjVHXUjVHXUjVHXUjVHXUjVHXUjVHXUjVHXUjVHXUjVHXUjVHXUjVHXUjVHXUjVHXUjVHXUjVHXUjVHXUjVHXUjVHXUjVHXUjVHXUjVHXUjVHXUjVHXUjVHXUjVHXUjVHXUjVHXUjVHXUjVHXUjVHXUjVHXUjVHXUjVHXUjVHXUjVHXUjVHXUjVHXUjVHXUjVHXUjVHXUjVHXUjVHXUjVHXUjVHXUjVHXUjVHXUjVHXUjVHXUjVHXUjVHXUjVHXUjVHXUjVHXUjVHXUjVHXUjVHXUjVHXUjVHXUjVHXUjVHXUjVHXUjVHXUjVHXUjVHXUjVHXUjVHXUjVHXUjVHXUjVHXUjVHXUjVHXUjVHXUjVHXUjVHXUjVHXUjVHXUjVHXUjVHXUjVHXUjVHXUjVHXUjVHXUjVHXUjVHXUjVHXUjVHXUjVHXUjVHXUjVHXUjVHXUjVHXUjVHXUjVHXUjVHXUjVHXUjVHXUjVHXUjVHXUjVHXUjVHXUjVHXUjVHXUjVHXUjVHXUjVHXUjVHXUjVHXUjVHXUjVHXUjVHXUjVHXUjVHXUjVHXUjVHXUjVHXUjVHXUjVHXUjVHXUjVHXUjVHXUjVHXUjVHXUjVHXUjVHXUjVH': 'http/lol1234556778888',\n",
       " 'XUjVXUjVXUjVXUjVXUjVXUjVXUjVXUjVXUjVXUjVXUjVXUjVXUjVXUjVXUjVXUjVXUjVXUjVXUjVXUjVXUjVXUjVXUjVXUjVXUjVXUjVXUjVXUjVXUjVXUjVXUjVXUjVXUjVXUjVXUjVXUjVXUjVXUjVXUjVXUjVXUjVXUjVXUjVXUjVXUjVXUjVXUjVXUjVXUjVXUjVXUjVXUjVXUjVXUjVXUjVXUjVXUjVXUjVXUjVXUjVXUjVXUjVXUjVXUjVXUjVXUjVXUjVXUjVXUjVXUjVXUjVXUjVXUjVXUjVXUjVXUjVXUjVXUjVXUjVXUjVXUjVXUjVXUjVXUjVXUjVXUjVXUjVXUjVXUjVXUjVXUjVXUjVXUjVXUjVXUjVXUjVXUjVXUjVXUjVXUjVXUjVXUjVXUjVXUjVXUjVXUjVXUjVXUjVXUjVXUjVXUjVXUjVXUjVXUjVXUjVXUjVXUjVXUjVXUjVXUjVXUjVXUjVXUjVXUjVXUjVXUjVXUjVXUjVXUjVXUjVXUjVXUjVXUjVXUjVXUjVXUjVXUjVXUjVXUjVXUjVXUjVXUjVXUjVXUjVXUjVXUjVXUjVXUjVXUjVXUjVXUjVXUjVXUjVXUjVXUjVXUjVXUjVXUjVXUjVXUjVXUjVXUjVXUjVXUjVXUjVXUjVXUjVXUjVXUjVXUjVXUjVXUjVXUjVXUjVXUjVXUjVXUjVXUjVXUjVXUjVXUjVXUjVXUjVXUjVXUjVXUjVXUjVXUjVXUjVXUjVXUjVXUjVXUjVXUjVXUjVXUjVXUjVXUjVXUjVXUjVXUjVXUjVXUjVXUjVXUjVXUjVXUjVXUjVXUjVXUjVXUjVXUjVXUjVXUjVXUjVXUjVXUjVXUjVXUjVXUjVXUjVXUjVXUjVXUjVXUjVXUjVXUjVXUjVXUjVXUjVXUjVXUjVXUjVXUjVXUjVXUjVXUjVXUjVXUjVXUjVXUjVXUjVXUjVXUjVXUjVXUjVXUjVXUjVXUjVXUjVXUjVXUjVXUjVXUjVXUjVXUjVXUjVXUjVXUjVXUjVXUjVXUjVXUjVXUjVXUjVXUjVXUjVXUjVXUjVXUjVXUjVXUjVXUjVXUjVXUjVXUjVXUjVXUjVXUjVXUjVXUjVXUjVXUjVXUjVXUjVXUjVXUjVXUjVXUjVXUjVXUjVXUjVXUjVXUjVXUjVXUjVXUjVXUjVXUjVXUjVXUjVXUjVXUjVXUjVXUjVXUjVXUjVXUjVXUjVXUjVXUjVXUjVXUjVXUjVXUjVXUjVXUjVXUjVXUjVXUjVXUjVXUjVXUjVXUjVXUjVXUjVXUjVXUjVXUjVXUjVXUjVXUjVXUjVXUjVXUjVXUjVXUjVXUjVXUjVXUjVXUjVXUjVXUjVXUjVXUjVXUjVXUjVXUjVXUjVXUjVXUjVXUjVXUjVXUjVXUjVXUjVXUjVXUjVXUjVXUjVXUjVXUjVXUjVXUjVXUjVXUjVXUjVXUjVXUjVXUjVXUjVXUjVXUjVXUjVXUjVXUjVXUjVXUjVXUjVXUjVXUjVXUjVXUjVXUjVXUjVXUjVXUjVXUjVXUjVXUjVXUjVXUjVXUjVXUjVXUjVXUjVXUjVXUjVXUjVXUjVXUjVXUjVXUjVXUjVXUjVXUjVXUjVXUjVXUjVXUjVXUjVXUjVXUjVXUjVXUjVXUjVXUjVXUjVXUjVXUjVXUjVXUjVXUjVXUjVXUjVXUjVXUjVXUjVXUjVXUjVXUjVXUjVXUjVXUjVXUjVXUjVXUjVXUjVXUjVXUjVXUjVXUjVXUjVXUjVXUjVXUjVXUjVXUjVXUjVXUjVXUjVXUjVXUjVXUjVXUjVXUjVXUjVXUjVXUjVXUjVXUjVXUjVXUjVXUjVXUjVXUjVXUjVXUjVXUjVXUjVXUjVXUjVXUjVXUjVXUjVXUjVXUjVXUjVXUjVXUjVXUjVXUjVXUjVXUjVXUjVXUjVXUjVXUjVXUjVXUjVXUjVXUjVXUjVXUjVXUjVXUjVXUjVXUjVXUjVXUjVXUjVXUjVXUjVXUjVXUjVXUjVXUjVXUjVXUjVXUjVXUjVXUjVXUjVXUjVXUjVXUjVXUjVXUjVXUjVXUjVXUjVXUjVXUjVXUjVXUjVXUjVXUjVXUjVXUjVXUjVXUjVXUjVXUjVXUjVXUjVXUjVXUjVXUjVXUjVXUjVXUjVXUjVXUjVXUjVXUjVXUjVXUjVXUjVXUjVXUjVXUjVXUjVXUjVXUjVXUjVXUjVXUjVXUjVXUjVXUjVXUjVXUjVXUjVXUjVXUjVXUjVXUjVXUjVXUjVXUjVXUjVXUjVXUjVXUjVXUjVXUjVXUjVXUjVXUjVXUjVXUjVXUjVXUjVXUjVXUjVXUjVXUjVXUjVXUjVXUjVXUjVXUjVXUjVXUjVXUjVXUjVXUjVXUjVXUjVXUjVXUjVXUjVXUjVXUjVXUjVXUjVXUjVXUjVXUjVXUjVXUjVXUjVXUjVXUjVXUjVXUjVXUjVXUjVXUjVXUjVXUjVXUjVXUjVXUjVXUjVXUjVXUjVXUjVXUjVXUjVXUjVXUjVXUjVXUjVXUjVXUjVXUjVXUjVXUjVXUjVXUjVXUjVXUjVXUjVXUjVXUjVXUjVXUjVXUjVXUjVXUjVXUjVXUjVXUjVXUjVXUjVXUjVXUjVXUjVXUjVXUjVXUjVXUjVXUjVXUjVXUjVXUjVXUjVXUjVXUjVXUjVXUjVXUjVXUjVXUjVXUjVXUjVXUjVXUjVXUjVXUjVXUjVXUjVXUjVXUjVXUjVXUjVXUjVXUjVXUjVXUjVXUjVXUjVXUjVXUjVXUjVXUjVXUjVXUjVXUjVXUjVXUjVXUjVXUjVXUjVXUjVXUjVXUjVXUjVXUjVXUjVXUjVXUjVXUjVXUjVXUjVXUjVXUjVXUjVXUjVXUjVXUjVXUjVXUjVXUjVXUjVXUjVXUjVXUjVXUjVXUjVXUjVXUjVXUjVXUjVXUjVXUjVXUjVXUjVXUjVXUjVXUjVXUjVXUjVXUjVXUjVXUjVXUjVXUjVXUjVXUjVXUjVXUjVXUjVXUjVXUjVXUjVXUjVXUjVXUjVXUjV': 'http/lol1234556778888',\n",
       " 'XUjXUjXUjXUjXUjXUjXUjXUjXUjXUjXUjXUjXUjXUjXUjXUjXUjXUjXUjXUjXUjXUjXUjXUjXUjXUjXUjXUjXUjXUjXUjXUjXUjXUjXUjXUjXUjXUjXUjXUjXUjXUjXUjXUjXUjXUjXUjXUjXUjXUjXUjXUjXUjXUjXUjXUjXUjXUjXUjXUjXUjXUjXUjXUjXUjXUjXUjXUjXUjXUjXUjXUjXUjXUjXUjXUjXUjXUjXUjXUjXUjXUjXUjXUjXUjXUjXUjXUjXUjXUjXUjXUjXUjXUjXUjXUjXUjXUjXUjXUjXUjXUjXUjXUjXUjXUjXUjXUjXUjXUjXUjXUjXUjXUjXUjXUjXUjXUjXUjXUjXUjXUjXUjXUjXUjXUjXUjXUjXUjXUjXUjXUjXUjXUjXUjXUjXUjXUjXUjXUjXUjXUjXUjXUjXUjXUjXUjXUjXUjXUjXUjXUjXUjXUjXUjXUjXUjXUjXUjXUjXUjXUjXUjXUjXUjXUjXUjXUjXUjXUjXUjXUjXUjXUjXUjXUjXUjXUjXUjXUjXUjXUjXUjXUjXUjXUjXUjXUjXUjXUjXUjXUjXUjXUjXUjXUjXUjXUjXUjXUjXUjXUjXUjXUjXUjXUjXUjXUjXUjXUjXUjXUjXUjXUjXUjXUjXUjXUjXUjXUjXUjXUjXUjXUjXUjXUjXUjXUjXUjXUjXUjXUjXUjXUjXUjXUjXUjXUjXUjXUjXUjXUjXUjXUjXUjXUjXUjXUjXUjXUjXUjXUjXUjXUjXUjXUjXUjXUjXUjXUjXUjXUjXUjXUjXUjXUjXUjXUjXUjXUjXUjXUjXUjXUjXUjXUjXUjXUjXUjXUjXUjXUjXUjXUjXUjXUjXUjXUjXUjXUjXUjXUjXUjXUjXUjXUjXUjXUjXUjXUjXUjXUjXUjXUjXUjXUjXUjXUjXUjXUjXUjXUjXUjXUjXUjXUjXUjXUjXUjXUjXUjXUjXUjXUjXUjXUjXUjXUjXUjXUjXUjXUjXUjXUjXUjXUjXUjXUjXUjXUjXUjXUjXUjXUjXUjXUjXUjXUjXUjXUjXUjXUjXUjXUjXUjXUjXUjXUjXUjXUjXUjXUjXUjXUjXUjXUjXUjXUjXUjXUjXUjXUjXUjXUjXUjXUjXUjXUjXUjXUjXUjXUjXUjXUjXUjXUjXUjXUjXUjXUjXUjXUjXUjXUjXUjXUjXUjXUjXUjXUjXUjXUjXUjXUjXUjXUjXUjXUjXUjXUjXUjXUjXUjXUjXUjXUjXUjXUjXUjXUjXUjXUjXUjXUjXUjXUjXUjXUjXUjXUjXUjXUjXUjXUjXUjXUjXUjXUjXUjXUjXUjXUjXUjXUjXUjXUjXUjXUjXUjXUjXUjXUjXUjXUjXUjXUjXUjXUjXUjXUjXUjXUjXUjXUjXUjXUjXUjXUjXUjXUjXUjXUjXUjXUjXUjXUjXUjXUjXUjXUjXUjXUjXUjXUjXUjXUjXUjXUjXUjXUjXUjXUjXUjXUjXUjXUjXUjXUjXUjXUjXUjXUjXUjXUjXUjXUjXUjXUjXUjXUjXUjXUjXUjXUjXUjXUjXUjXUjXUjXUjXUjXUjXUjXUjXUjXUjXUjXUjXUjXUjXUjXUjXUjXUjXUjXUjXUjXUjXUjXUjXUjXUjXUjXUjXUjXUjXUjXUjXUjXUjXUjXUjXUjXUjXUjXUjXUjXUjXUjXUjXUjXUjXUjXUjXUjXUjXUjXUjXUjXUjXUjXUjXUjXUjXUjXUjXUjXUjXUjXUjXUjXUjXUjXUjXUjXUjXUjXUjXUjXUjXUjXUjXUjXUjXUjXUjXUjXUjXUjXUjXUjXUjXUjXUjXUjXUjXUjXUjXUjXUjXUjXUjXUjXUjXUjXUjXUjXUjXUjXUjXUjXUjXUjXUjXUjXUjXUjXUjXUjXUjXUjXUjXUjXUjXUjXUjXUjXUjXUjXUjXUjXUjXUjXUjXUjXUjXUjXUjXUjXUjXUjXUjXUjXUjXUjXUjXUjXUjXUjXUjXUjXUjXUjXUjXUjXUjXUjXUjXUjXUjXUjXUjXUjXUjXUjXUjXUjXUjXUjXUjXUjXUjXUjXUjXUjXUjXUjXUjXUjXUjXUjXUjXUjXUjXUjXUjXUjXUjXUjXUjXUjXUjXUjXUjXUjXUjXUjXUjXUjXUjXUjXUjXUjXUjXUjXUjXUjXUjXUjXUjXUjXUjXUjXUjXUjXUjXUjXUjXUjXUjXUjXUjXUjXUjXUjXUjXUjXUjXUjXUjXUjXUjXUjXUjXUjXUjXUjXUjXUjXUjXUjXUjXUjXUjXUjXUjXUjXUjXUjXUjXUj': 'http/lol1234556778888',\n",
       " 'XXXXXXXXXXXXXXXXXXXXXXXXXXXXXXXXXXXXXXXXXXXXXXXXXXXXXXXXXXXXXXXXXXXXXXXXXXXXXXXXXXXXXXXXXXXXXXXXXXXXXXXXXXXXXXXXXXXXXXXXXXXXXXXXXXXXXXXXXXXXXXXXXXXXXXXXXXXXXXXXXXXXXXXXXXXXXXXXXXXXXXXXXXXXXXXXXXXXXXXXXXXXXXXXXXXXXXXXXXXXXXXXXXXXXXXXXXXXXXXXXXXXXXXXXXXXXXXXXXXXXXXXXXXXXXXXXXXXXXXXXXXXXXXXXXXXXXXXXXXXXXXXXXXXXXXXXXXXXXXXXXXXXXXXXXXXXXXXXXXXXXXXXXXXXXXXXXXXXXXXXXXXXXXXXXXXXXXXXXXXXXXXXXXXXXXXXXXXXXXXXXXXXXXXXXXXXXXXXXXXXXXXXXXXXXXXXXXXXXXXXXXXXXXXXXXXXXXXXXXXXXXXXXXXXXXXXXXXXXXXXXXXXXXXXXXXXXXXXXXXXXXXXXXXXXXXXXXXXXXXXXXXXXXXXXXXXXXXXXXXXXXXXXXXXXXXXXXXXXXXXXXXXXXXXXXXXXXXXXXXXXXXXXXXXXXXXXXXXXXXXXXXXXXXXXXXXXXXXXXXXXXXXXXXXXXXXXXXXXXXXXXXXXXXXXXXXXXXXXXXXXXXXXXXXXXXXXXXXXXXXXXXXXXXXXXXXXXXXXXXXXXXXXXXXXXXXXXXXXXXXXXXXXXXXXXXXXXXXXXXXXXXXXXXXXXXXXXXXXXXX': 'http/lol1234556778888'}"
      ]
     },
     "execution_count": 80,
     "metadata": {},
     "output_type": "execute_result"
    }
   ],
   "source": [
    "hash_map1"
   ]
  },
  {
   "cell_type": "code",
   "execution_count": 95,
   "metadata": {},
   "outputs": [],
   "source": [
    "import re\n",
    "def extract(eq):\n",
    "            patt=re.match(r'(-?\\d+)\\+(-?\\d+)i',eq)\n",
    "            real_1,imag_1= patt.groups()\n",
    "            print(real_1)\n",
    "            print(imag_1)"
   ]
  },
  {
   "cell_type": "code",
   "execution_count": 96,
   "metadata": {},
   "outputs": [
    {
     "name": "stdout",
     "output_type": "stream",
     "text": [
      "1\n",
      "2\n"
     ]
    }
   ],
   "source": [
    "extract('1+2i')"
   ]
  },
  {
   "cell_type": "code",
   "execution_count": 99,
   "metadata": {},
   "outputs": [
    {
     "name": "stdout",
     "output_type": "stream",
     "text": [
      "(0, 1)\n",
      "(1, 2)\n",
      "(2, 3)\n",
      "(3, 4)\n",
      "(4, 5.6)\n"
     ]
    }
   ],
   "source": [
    "num=[1,2,3,4,5.6]\n",
    "for i in enumerate(num):\n",
    "    print(i) "
   ]
  },
  {
   "cell_type": "code",
   "execution_count": 198,
   "metadata": {},
   "outputs": [],
   "source": [
    "    def threeSum(nums):\n",
    "        \"\"\"\n",
    "        :type nums: List[int]\n",
    "        :rtype: List[List[int]]\n",
    "        \"\"\"\n",
    "        nums.sort()\n",
    "        print(nums)\n",
    "        result,visited = set(),{}\n",
    "        for i in range(len(nums)-2):\n",
    "            table,target = {},-nums[i]\n",
    "            print(target)\n",
    "            if nums[i] not in visited:\n",
    "                for j in range(i+1,len(nums)):\n",
    "                    if nums[j] not in table:    \n",
    "                        table[target - nums[j]] = j\n",
    "                        print(table)\n",
    "                        \n",
    "                    else:   \n",
    "                        result.add((nums[i],target-nums[j],nums[j]))\n",
    "                        print(result)\n",
    "                visited[nums[i]] = 1\n",
    "                print(visited)\n",
    "        return list(result)"
   ]
  },
  {
   "cell_type": "code",
   "execution_count": 288,
   "metadata": {},
   "outputs": [],
   "source": [
    "num1=[-1, 0, 1, 2, -1, -4]"
   ]
  },
  {
   "cell_type": "code",
   "execution_count": 197,
   "metadata": {},
   "outputs": [
    {
     "name": "stdout",
     "output_type": "stream",
     "text": [
      "[-4, -1, -1, 0, 1, 2]\n",
      "4\n",
      "{5: 1}\n",
      "{5: 2}\n",
      "{5: 2, 4: 3}\n",
      "{5: 2, 4: 3, 3: 4}\n",
      "{5: 2, 4: 3, 3: 4, 2: 5}\n",
      "{-4: 1}\n",
      "1\n",
      "{2: 2}\n",
      "{2: 2, 1: 3}\n",
      "{-4: 1, -1: 1}\n",
      "1\n",
      "0\n",
      "{-1: 4}\n",
      "{-1: 4, -2: 5}\n",
      "{-4: 1, -1: 1, 0: 1}\n"
     ]
    },
    {
     "data": {
      "text/plain": [
       "[(-1, -1, 2), (-1, 0, 1)]"
      ]
     },
     "execution_count": 197,
     "metadata": {},
     "output_type": "execute_result"
    }
   ],
   "source": [
    "threesum(num1)"
   ]
  },
  {
   "cell_type": "code",
   "execution_count": 295,
   "metadata": {},
   "outputs": [],
   "source": [
    "def sum3_with_hash_table(a):\n",
    "  res = []\n",
    "  N = len(a)\n",
    "  d = {}\n",
    "  for i in range(N):\n",
    "    d[a[i]] = 1\n",
    "\n",
    "  a.sort()                          # O(N log N)\n",
    "  print(d)\n",
    "\n",
    "        # Python ranges exclude the last term, i.e., range(0,3) = [0,1,2]\n",
    "  for i in range(0, N-2):           # for i = 0 to N-3\n",
    "    for j in range(i+1, N-1):       # for j = i+1 to N-2\n",
    "      val = -(a[i] + a[j])\n",
    "      \n",
    "      if a[i] < a[j] < val and val in d:\n",
    "        print(val)\n",
    "        print('hi')F\n",
    "        res.append( [a[i], a[j], val] )\n",
    "  return res\n",
    "\n",
    "\t\t\t\t\t\t\t\t\t"
   ]
  },
  {
   "cell_type": "code",
   "execution_count": 296,
   "metadata": {},
   "outputs": [
    {
     "name": "stdout",
     "output_type": "stream",
     "text": [
      "{-4: 1, -1: 1, 0: 1, 1: 1, 2: 1}\n",
      "1\n",
      "hi\n",
      "1\n",
      "hi\n"
     ]
    },
    {
     "data": {
      "text/plain": [
       "[[-1, 0, 1], [-1, 0, 1]]"
      ]
     },
     "execution_count": 296,
     "metadata": {},
     "output_type": "execute_result"
    }
   ],
   "source": [
    "sum3_with_hash_table(num1)"
   ]
  },
  {
   "cell_type": "code",
   "execution_count": 203,
   "metadata": {},
   "outputs": [],
   "source": [
    "d={0:1,12:2,2:30}"
   ]
  },
  {
   "cell_type": "code",
   "execution_count": 222,
   "metadata": {},
   "outputs": [
    {
     "data": {
      "text/plain": [
       "31"
      ]
     },
     "execution_count": 222,
     "metadata": {},
     "output_type": "execute_result"
    }
   ],
   "source": [
    "d.get(2,1) + 1"
   ]
  },
  {
   "cell_type": "code",
   "execution_count": 207,
   "metadata": {},
   "outputs": [
    {
     "name": "stdout",
     "output_type": "stream",
     "text": [
      "yes\n"
     ]
    }
   ],
   "source": [
    "val1=2\n",
    "if val1 in d:\n",
    "    print('yes')"
   ]
  },
  {
   "cell_type": "code",
   "execution_count": 218,
   "metadata": {},
   "outputs": [],
   "source": [
    "def ther(num):\n",
    "    num.sort()\n",
    "    res,visit=set(),{}\n",
    "    for i in range(0,len(num)-2):\n",
    "        table,target={},-num[i]\n",
    "        if num[i] not in visit:\n",
    "            for j in range(i+1,len(num)):\n",
    "                if num[j] not in table:\n",
    "                    table[target-num[j]]=j\n",
    "                else:\n",
    "                    res.add((num[i],target-num[j],num[j]))\n",
    "            visit[num[i]]=1\n",
    "    return list(res)"
   ]
  },
  {
   "cell_type": "code",
   "execution_count": 219,
   "metadata": {},
   "outputs": [
    {
     "data": {
      "text/plain": [
       "[(-1, -1, 2), (-1, 0, 1)]"
      ]
     },
     "execution_count": 219,
     "metadata": {},
     "output_type": "execute_result"
    }
   ],
   "source": [
    "ther(num1)"
   ]
  },
  {
   "cell_type": "code",
   "execution_count": null,
   "metadata": {},
   "outputs": [],
   "source": [
    "def threeSum(nums):\n",
    "        \"\"\"\n",
    "        :type nums: List[int]\n",
    "        :rtype: List[List[int]]\n",
    "        \"\"\"\n",
    "        nums.sort()\n",
    "        print(nums)\n",
    "        result,visited = set(),{}\n",
    "        for i in range(len(nums)-2):\n",
    "            table,target = {},-nums[i]\n",
    "            print(target)\n",
    "            if nums[i] not in visited:\n",
    "                for j in range(i+1,len(nums)):\n",
    "                    if nums[j] not in table:    \n",
    "                        table[target - nums[j]] = j\n",
    "                        print(table)\n",
    "                        \n",
    "                    else:   \n",
    "                        result.add((nums[i],target-nums[j],nums[j]))\n",
    "                        print(result)\n",
    "                visited[nums[i]] = 1\n",
    "                print(visited)\n",
    "        return list(result)"
   ]
  },
  {
   "cell_type": "code",
   "execution_count": 276,
   "metadata": {},
   "outputs": [],
   "source": [
    "from heapq import heappush, heappop\n",
    "def topKFrequent( words, k):\n",
    "        \"\"\"\n",
    "        :type words: List[str]\n",
    "        :type k: int\n",
    "        :rtype: List[str]\n",
    "        \"\"\"\n",
    "        if words is None or len(words) == 0:\n",
    "            return []\n",
    "        HMap = {}\n",
    "        PQ = []\n",
    "        for word in words:\n",
    "            HMap[word] = HMap.get(word,0) + 1\n",
    "            print(HMap)\n",
    "        for key in HMap:\n",
    "            heappush(PQ, (-HMap[key],key))\n",
    "        print(PQ)\n",
    "\n",
    "        return [heappop(PQ)[1] for _ in range(k)]\n"
   ]
  },
  {
   "cell_type": "code",
   "execution_count": 277,
   "metadata": {},
   "outputs": [
    {
     "name": "stdout",
     "output_type": "stream",
     "text": [
      "{'i': 1}\n",
      "{'i': 1, 'love': 1}\n",
      "{'i': 1, 'love': 1, 'leetcode': 1}\n",
      "{'i': 2, 'love': 1, 'leetcode': 1}\n",
      "{'i': 2, 'love': 2, 'leetcode': 1}\n",
      "{'i': 2, 'love': 2, 'leetcode': 1, 'coding': 1}\n",
      "{'i': 2, 'love': 2, 'leetcode': 1, 'coding': 2}\n",
      "[(-2, 'coding'), (-2, 'i'), (-1, 'leetcode'), (-2, 'love')]\n"
     ]
    },
    {
     "data": {
      "text/plain": [
       "['coding', 'i']"
      ]
     },
     "execution_count": 277,
     "metadata": {},
     "output_type": "execute_result"
    }
   ],
   "source": [
    "w=[\"i\", \"love\", \"leetcode\", \"i\", \"love\", \"coding\",\"coding\"]\n",
    "topKFrequent(w,k=2)"
   ]
  },
  {
   "cell_type": "code",
   "execution_count": 263,
   "metadata": {},
   "outputs": [],
   "source": [
    "import collections\n",
    "def topKFrequent(words, k):\n",
    "        counts = collections.Counter(words)\n",
    "        items = list(counts.items())\n",
    "        print(items)\n",
    "        items.sort(key=lambda item:(-item[1],item[0]))\n",
    "        print(items)\n",
    "        return [item[0] for item in items[0:k]]"
   ]
  },
  {
   "cell_type": "code",
   "execution_count": 264,
   "metadata": {},
   "outputs": [
    {
     "name": "stdout",
     "output_type": "stream",
     "text": [
      "[('i', 2), ('love', 2), ('leetcode', 1), ('coding', 2)]\n",
      "[('coding', 2), ('i', 2), ('love', 2), ('leetcode', 1)]\n"
     ]
    },
    {
     "data": {
      "text/plain": [
       "['coding', 'i']"
      ]
     },
     "execution_count": 264,
     "metadata": {},
     "output_type": "execute_result"
    }
   ],
   "source": [
    "w=[\"i\", \"love\", \"leetcode\", \"i\", \"love\", \"coding\",\"coding\"]\n",
    "topKFrequent(w,k=2)"
   ]
  },
  {
   "cell_type": "code",
   "execution_count": 300,
   "metadata": {},
   "outputs": [
    {
     "ename": "SyntaxError",
     "evalue": "invalid syntax (<ipython-input-300-cbfad4b591b7>, line 1)",
     "output_type": "error",
     "traceback": [
      "\u001b[0;36m  File \u001b[0;32m\"<ipython-input-300-cbfad4b591b7>\"\u001b[0;36m, line \u001b[0;32m1\u001b[0m\n\u001b[0;31m    d = {'one':'1', 'two':'2','3'}\u001b[0m\n\u001b[0m                                 ^\u001b[0m\n\u001b[0;31mSyntaxError\u001b[0m\u001b[0;31m:\u001b[0m invalid syntax\n"
     ]
    }
   ],
   "source": [
    "d = {'one':'1', 'two':'2'}\n",
    "d.get(\"two\",1)"
   ]
  },
  {
   "cell_type": "code",
   "execution_count": 266,
   "metadata": {},
   "outputs": [
    {
     "data": {
      "text/plain": [
       "dict_keys(['one', 'two'])"
      ]
     },
     "execution_count": 266,
     "metadata": {},
     "output_type": "execute_result"
    }
   ],
   "source": [
    "d.keys()"
   ]
  },
  {
   "cell_type": "code",
   "execution_count": 267,
   "metadata": {},
   "outputs": [
    {
     "data": {
      "text/plain": [
       "<dict_itemiterator at 0x111deae08>"
      ]
     },
     "execution_count": 267,
     "metadata": {},
     "output_type": "execute_result"
    }
   ],
   "source": [
    "iter(d.items())"
   ]
  },
  {
   "cell_type": "code",
   "execution_count": null,
   "metadata": {},
   "outputs": [],
   "source": [
    ">>> type(ii)\n",
    "<class 'dict_itemiterator'>\n",
    ">>>\n",
    ">>> ik = iter(d.keys())\n",
    ">>> type(ik)\n",
    "<class 'dict_keyiterator'>"
   ]
  },
  {
   "cell_type": "code",
   "execution_count": 287,
   "metadata": {},
   "outputs": [],
   "source": [
    "def topKFrequent(words, k):\n",
    "        \"\"\"\n",
    "        :type words: List[str]\n",
    "        :type k: int\n",
    "        :rtype: List[str]\n",
    "        \"\"\"\n",
    "        if words is None or len(words) == 0:\n",
    "            return []\n",
    "        has_map={}\n",
    "        pqu=[]\n",
    "        for word in words:\n",
    "            has_map[word]=has_map.get(word,0)+1\n",
    "        print(has_map)\n",
    "        for ki in has_map:\n",
    "            heappush(pqu,(-has_map[ki],ki))\n",
    "        \n",
    "        \n",
    "        return [heappop(pqu)[1] for _ in range(k)]\n",
    "        \n",
    "\n",
    "\n"
   ]
  },
  {
   "cell_type": "code",
   "execution_count": 288,
   "metadata": {},
   "outputs": [
    {
     "name": "stdout",
     "output_type": "stream",
     "text": [
      "{'i': 2, 'love': 2, 'leetcode': 1, 'coding': 2}\n"
     ]
    },
    {
     "data": {
      "text/plain": [
       "['coding', 'i']"
      ]
     },
     "execution_count": 288,
     "metadata": {},
     "output_type": "execute_result"
    }
   ],
   "source": [
    "w=[\"i\", \"love\", \"leetcode\", \"i\", \"love\", \"coding\",\"coding\"]\n",
    "topKFrequent(w,2)"
   ]
  },
  {
   "cell_type": "code",
   "execution_count": 293,
   "metadata": {},
   "outputs": [],
   "source": [
    "from collections import deque\n",
    "\n",
    "def get_candidates(word):\n",
    "        word = [x for x in word]\n",
    "        all_chars = \"abcdefghijklmnopqrstuvwxyz\"\n",
    "        for i in range(len(word)):\n",
    "            org = word[i]\n",
    "            for ch in all_chars:\n",
    "                if ch != org:\n",
    "                    word[i] = ch\n",
    "                    yield \"\".join(word)\n",
    "                    word[i] = org\n",
    "\n",
    "    "
   ]
  },
  {
   "cell_type": "code",
   "execution_count": 275,
   "metadata": {},
   "outputs": [],
   "source": [
    "from collections import deque, defaultdict\n",
    "\n",
    "def ladderLength(beginWord, endWord, wordList):\n",
    "        \n",
    "        # safeguards and shortcuts\n",
    "        if len(wordList) == 0: return 0\n",
    "        if len(beginWord) != len(endWord) or len(endWord) != len(wordList[0]): return 0\n",
    "        if endWord not in wordList: return 0\n",
    "        wordList = list(set(wordList))\n",
    "\n",
    "        # generate adjacency information\n",
    "        adj = []\n",
    "        for i in range(len(beginWord)): \n",
    "            adji = defaultdict(list)\n",
    "            for w in wordList:\n",
    "                adji[w[:i] + w[i+1:]].append(w)\n",
    "            adj.append(adji)\n",
    "\n",
    "        # perform BFS to find shortest path length\n",
    "        q = deque()\n",
    "        q.append((2, beginWord))\n",
    "        visited = set([beginWord])\n",
    "        while q:\n",
    "            d, cur = q.popleft()\n",
    "            for i in range(len(beginWord)):\n",
    "                for nex in adj[i][cur[:i] + cur[i+1:]]:\n",
    "                    if nex == endWord: return d\n",
    "                    if nex not in visited:\n",
    "                        visited.add(nex)\n",
    "                        q.append((d+1,nex))\n",
    "        return 0\n"
   ]
  },
  {
   "cell_type": "code",
   "execution_count": 276,
   "metadata": {},
   "outputs": [
    {
     "data": {
      "text/plain": [
       "0"
      ]
     },
     "execution_count": 276,
     "metadata": {},
     "output_type": "execute_result"
    }
   ],
   "source": [
    "beginWord = \"hit\",\n",
    "endWord = \"cog\",\n",
    "wordList = [\"hot\",\"dot\",\"dog\",\"lot\",\"log\",\"cog\"]\n",
    "ladderLength(beginWord,endWord,wordList)"
   ]
  },
  {
   "cell_type": "code",
   "execution_count": 277,
   "metadata": {},
   "outputs": [
    {
     "name": "stdout",
     "output_type": "stream",
     "text": [
      "['hot', 'dot', 'dog', 'lot', 'log', 'cog', ('hit',)]\n",
      "[{'c', 'd', 'h', 'hit', 'l'}]\n"
     ]
    }
   ],
   "source": [
    "beginWord = \"hit\",\n",
    "endWord = \"cog\",\n",
    "wordList = [\"hot\",\"dot\",\"dog\",\"lot\",\"log\",\"cog\"]\n",
    "wordList.append(beginWord)\n",
    "words = set(wordList)\n",
    "k = len(beginWord)\n",
    "chars = [set() for _ in range(k)]\n",
    "for w in words:\n",
    "    for i in range(k):\n",
    "        chars[i].add(w[i])\n",
    "print(wordList)\n",
    "print(chars)"
   ]
  },
  {
   "cell_type": "code",
   "execution_count": 278,
   "metadata": {},
   "outputs": [
    {
     "ename": "NameError",
     "evalue": "name 'maxint' is not defined",
     "output_type": "error",
     "traceback": [
      "\u001b[0;31m---------------------------------------------------------------------------\u001b[0m",
      "\u001b[0;31mNameError\u001b[0m                                 Traceback (most recent call last)",
      "\u001b[0;32m<ipython-input-278-176574aeaa82>\u001b[0m in \u001b[0;36m<module>\u001b[0;34m()\u001b[0m\n\u001b[1;32m     21\u001b[0m     \u001b[0;32mreturn\u001b[0m \u001b[0mmin_dist\u001b[0m\u001b[0;34m\u001b[0m\u001b[0m\n\u001b[1;32m     22\u001b[0m \u001b[0;34m\u001b[0m\u001b[0m\n\u001b[0;32m---> 23\u001b[0;31m \u001b[0mmin_dist\u001b[0m \u001b[0;34m=\u001b[0m \u001b[0msearch_bfs\u001b[0m\u001b[0;34m(\u001b[0m\u001b[0mbeginWord\u001b[0m\u001b[0;34m)\u001b[0m\u001b[0;34m\u001b[0m\u001b[0m\n\u001b[0m\u001b[1;32m     24\u001b[0m \u001b[0;32mreturn\u001b[0m \u001b[0;36m0\u001b[0m \u001b[0;32mif\u001b[0m \u001b[0mmin_dist\u001b[0m \u001b[0;34m==\u001b[0m \u001b[0mmaxint\u001b[0m \u001b[0;32melse\u001b[0m \u001b[0mmin_dist\u001b[0m\u001b[0;34m\u001b[0m\u001b[0m\n",
      "\u001b[0;32m<ipython-input-278-176574aeaa82>\u001b[0m in \u001b[0;36msearch_bfs\u001b[0;34m(start)\u001b[0m\n\u001b[1;32m      7\u001b[0m \u001b[0;34m\u001b[0m\u001b[0m\n\u001b[1;32m      8\u001b[0m \u001b[0;32mdef\u001b[0m \u001b[0msearch_bfs\u001b[0m\u001b[0;34m(\u001b[0m\u001b[0mstart\u001b[0m\u001b[0;34m)\u001b[0m\u001b[0;34m:\u001b[0m\u001b[0;34m\u001b[0m\u001b[0m\n\u001b[0;32m----> 9\u001b[0;31m     \u001b[0mmin_dist\u001b[0m \u001b[0;34m=\u001b[0m \u001b[0mmaxint\u001b[0m\u001b[0;34m\u001b[0m\u001b[0m\n\u001b[0m\u001b[1;32m     10\u001b[0m     \u001b[0mqueue\u001b[0m \u001b[0;34m=\u001b[0m \u001b[0mdeque\u001b[0m\u001b[0;34m(\u001b[0m\u001b[0;34m[\u001b[0m\u001b[0;34m(\u001b[0m\u001b[0mstart\u001b[0m\u001b[0;34m,\u001b[0m \u001b[0;36m1\u001b[0m\u001b[0;34m)\u001b[0m\u001b[0;34m]\u001b[0m\u001b[0;34m)\u001b[0m\u001b[0;34m\u001b[0m\u001b[0m\n\u001b[1;32m     11\u001b[0m     \u001b[0mvisited\u001b[0m \u001b[0;34m=\u001b[0m \u001b[0mset\u001b[0m\u001b[0;34m(\u001b[0m\u001b[0;34m[\u001b[0m\u001b[0mstart\u001b[0m\u001b[0;34m]\u001b[0m\u001b[0;34m)\u001b[0m\u001b[0;34m\u001b[0m\u001b[0m\n",
      "\u001b[0;31mNameError\u001b[0m: name 'maxint' is not defined"
     ]
    }
   ],
   "source": [
    "        def neighbors(word):\n",
    "            for j in range(k):\n",
    "                for c in chars[j]:\n",
    "                    w = word[:j] + c + word[j + 1:]\n",
    "                    if w in words and w != word:\n",
    "                        yield w\n",
    "\n",
    "        def search_bfs(start):\n",
    "            min_dist = maxint\n",
    "            queue = deque([(start, 1)])\n",
    "            visited = set([start])\n",
    "            while queue:\n",
    "                word, d = queue.popleft()\n",
    "                if word == endWord:\n",
    "                    min_dist = min(min_dist, d)\n",
    "                elif d < min_dist:\n",
    "                    for w in neighbors(word):\n",
    "                        if w not in visited:\n",
    "                            visited.add(w)\n",
    "                            queue.append((w, d + 1))\n",
    "            return min_dist\n",
    "\n",
    "        min_dist = search_bfs(beginWord)\n",
    "        return 0 if min_dist == maxint else min_dist"
   ]
  },
  {
   "cell_type": "code",
   "execution_count": 279,
   "metadata": {},
   "outputs": [
    {
     "ename": "NameError",
     "evalue": "name 'string' is not defined",
     "output_type": "error",
     "traceback": [
      "\u001b[0;31m---------------------------------------------------------------------------\u001b[0m",
      "\u001b[0;31mNameError\u001b[0m                                 Traceback (most recent call last)",
      "\u001b[0;32m<ipython-input-279-ac9229703b09>\u001b[0m in \u001b[0;36m<module>\u001b[0;34m()\u001b[0m\n\u001b[0;32m----> 1\u001b[0;31m \u001b[0mstring\u001b[0m\u001b[0;34m.\u001b[0m\u001b[0mascii_lowercase\u001b[0m\u001b[0;34m\u001b[0m\u001b[0m\n\u001b[0m",
      "\u001b[0;31mNameError\u001b[0m: name 'string' is not defined"
     ]
    }
   ],
   "source": [
    "string.ascii_lowercase"
   ]
  },
  {
   "cell_type": "code",
   "execution_count": 284,
   "metadata": {},
   "outputs": [],
   "source": [
    "from collections import deque, defaultdict\n",
    "\n",
    "\n",
    "beginWord = \"hit\",\n",
    "endWord = \"cog\",\n",
    "wordList = [\"hot\",\"dot\",\"dog\",\"lot\",\"log\",\"cog\"]\n",
    "def ladderLentgh(beginWord, endWord, wordList):\n",
    "    word=set(wordList)\n",
    "    k=len(beginWord)\n",
    "    queue=deque([[beginWord,1]])\n",
    "    while queue:\n",
    "        word,len1 =queue.popleft()\n",
    "        if word==endWord:\n",
    "            return len1\n",
    "        for i in range(k):\n",
    "            for c in  string.ascii_lowercase:\n",
    "                next_word=word[:i]+c+word[i+1:]\n",
    "                if next_word in wordList:\n",
    "                    wordList.remove(next_word)\n",
    "                    queue.append([next_word,len1+1])\n",
    "    return 0\n",
    "        "
   ]
  },
  {
   "cell_type": "code",
   "execution_count": 285,
   "metadata": {},
   "outputs": [
    {
     "ename": "NameError",
     "evalue": "name 'string' is not defined",
     "output_type": "error",
     "traceback": [
      "\u001b[0;31m---------------------------------------------------------------------------\u001b[0m",
      "\u001b[0;31mNameError\u001b[0m                                 Traceback (most recent call last)",
      "\u001b[0;32m<ipython-input-285-a5933f286bbf>\u001b[0m in \u001b[0;36m<module>\u001b[0;34m()\u001b[0m\n\u001b[0;32m----> 1\u001b[0;31m \u001b[0mladderLentgh\u001b[0m\u001b[0;34m(\u001b[0m\u001b[0mbeginWord\u001b[0m\u001b[0;34m,\u001b[0m \u001b[0mendWord\u001b[0m\u001b[0;34m,\u001b[0m \u001b[0mwordList\u001b[0m\u001b[0;34m)\u001b[0m\u001b[0;34m\u001b[0m\u001b[0m\n\u001b[0m",
      "\u001b[0;32m<ipython-input-284-df4b216fc087>\u001b[0m in \u001b[0;36mladderLentgh\u001b[0;34m(beginWord, endWord, wordList)\u001b[0m\n\u001b[1;32m     14\u001b[0m             \u001b[0;32mreturn\u001b[0m \u001b[0mlen1\u001b[0m\u001b[0;34m\u001b[0m\u001b[0m\n\u001b[1;32m     15\u001b[0m         \u001b[0;32mfor\u001b[0m \u001b[0mi\u001b[0m \u001b[0;32min\u001b[0m \u001b[0mrange\u001b[0m\u001b[0;34m(\u001b[0m\u001b[0mk\u001b[0m\u001b[0;34m)\u001b[0m\u001b[0;34m:\u001b[0m\u001b[0;34m\u001b[0m\u001b[0m\n\u001b[0;32m---> 16\u001b[0;31m             \u001b[0;32mfor\u001b[0m \u001b[0mc\u001b[0m \u001b[0;32min\u001b[0m  \u001b[0mstring\u001b[0m\u001b[0;34m.\u001b[0m\u001b[0mascii_lowercase\u001b[0m\u001b[0;34m:\u001b[0m\u001b[0;34m\u001b[0m\u001b[0m\n\u001b[0m\u001b[1;32m     17\u001b[0m                 \u001b[0mnext_word\u001b[0m\u001b[0;34m=\u001b[0m\u001b[0mword\u001b[0m\u001b[0;34m[\u001b[0m\u001b[0;34m:\u001b[0m\u001b[0mi\u001b[0m\u001b[0;34m]\u001b[0m\u001b[0;34m+\u001b[0m\u001b[0mc\u001b[0m\u001b[0;34m+\u001b[0m\u001b[0mword\u001b[0m\u001b[0;34m[\u001b[0m\u001b[0mi\u001b[0m\u001b[0;34m+\u001b[0m\u001b[0;36m1\u001b[0m\u001b[0;34m:\u001b[0m\u001b[0;34m]\u001b[0m\u001b[0;34m\u001b[0m\u001b[0m\n\u001b[1;32m     18\u001b[0m                 \u001b[0;32mif\u001b[0m \u001b[0mnext_word\u001b[0m \u001b[0;32min\u001b[0m \u001b[0mwordList\u001b[0m\u001b[0;34m:\u001b[0m\u001b[0;34m\u001b[0m\u001b[0m\n",
      "\u001b[0;31mNameError\u001b[0m: name 'string' is not defined"
     ]
    }
   ],
   "source": [
    "ladderLentgh(beginWord, endWord, wordList)"
   ]
  },
  {
   "cell_type": "code",
   "execution_count": 12,
   "metadata": {},
   "outputs": [],
   "source": [
    "nums=[1,2,3,4]\n",
    "\n",
    "def productExceptSelf(nums):\n",
    "        p = 1\n",
    "        n = len(nums)\n",
    "        output = []\n",
    "        for i in range(0,n):\n",
    "            output.append(p)\n",
    "            p = p * nums[i]\n",
    "        print(output)\n",
    "        p = 1\n",
    "        for i in range(n-1,-1,-1):\n",
    "            output[i] = output[i] * p\n",
    "            print(p)\n",
    "            p = p * nums[i]\n",
    "        return output"
   ]
  },
  {
   "cell_type": "code",
   "execution_count": 13,
   "metadata": {},
   "outputs": [
    {
     "name": "stdout",
     "output_type": "stream",
     "text": [
      "[1, 1, 2, 6]\n",
      "1\n",
      "4\n",
      "12\n",
      "24\n"
     ]
    },
    {
     "data": {
      "text/plain": [
       "[24, 12, 8, 6]"
      ]
     },
     "execution_count": 13,
     "metadata": {},
     "output_type": "execute_result"
    }
   ],
   "source": [
    "productExceptSelf(nums)"
   ]
  },
  {
   "cell_type": "code",
   "execution_count": 24,
   "metadata": {},
   "outputs": [],
   "source": [
    "def productExceptSelf(nums):\n",
    "        \"\"\"\n",
    "        :type nums: List[int]\n",
    "        :rtype: List[int]\n",
    "        \"\"\"\n",
    "        left=[]\n",
    "        p=1\n",
    "        n=len(nums)\n",
    "        for i in range(0,n):\n",
    "            left.append(p)\n",
    "            p=p*nums[i]\n",
    "        p=1\n",
    "        for i in range(n-1,-1,-1):\n",
    "            left[i]=left[i]*p\n",
    "            p=p*nums[i]\n",
    "        return left"
   ]
  },
  {
   "cell_type": "code",
   "execution_count": 27,
   "metadata": {},
   "outputs": [
    {
     "data": {
      "text/plain": [
       "[24, 12, 8, 6]"
      ]
     },
     "execution_count": 27,
     "metadata": {},
     "output_type": "execute_result"
    }
   ],
   "source": [
    "productExceptSelf(nums)"
   ]
  },
  {
   "cell_type": "code",
   "execution_count": 30,
   "metadata": {},
   "outputs": [],
   "source": [
    "def productExceptSelf(nums):\n",
    "        \"\"\"\n",
    "        :type nums: List[int]\n",
    "        :rtype: List[int]\n",
    "        \"\"\"\n",
    "        start, end, n = 1, 1, len(nums)\n",
    "        out = [1]*n \n",
    "        for i in range(len(nums)):\n",
    "            out[i] *= start\n",
    "            print(out[i])\n",
    "            start *= nums[i]\n",
    "            out[n-i-1] *= end\n",
    "            print(out[n-i-1])\n",
    "            end *= nums[n-i-1]\n",
    "        return out"
   ]
  },
  {
   "cell_type": "code",
   "execution_count": 31,
   "metadata": {},
   "outputs": [
    {
     "name": "stdout",
     "output_type": "stream",
     "text": [
      "1\n",
      "1\n",
      "1\n",
      "4\n",
      "8\n",
      "12\n",
      "6\n",
      "24\n"
     ]
    },
    {
     "data": {
      "text/plain": [
       "[24, 12, 8, 6]"
      ]
     },
     "execution_count": 31,
     "metadata": {},
     "output_type": "execute_result"
    }
   ],
   "source": [
    "productExceptSelf(nums)"
   ]
  },
  {
   "cell_type": "code",
   "execution_count": 51,
   "metadata": {},
   "outputs": [],
   "source": [
    "def subsets( nums):\n",
    "    \"\"\"\n",
    "    :type nums: List[int]\n",
    "    :rtype: List[List[int]]\n",
    "    \"\"\"\n",
    "    res = [[]]\n",
    "    \n",
    "    for i in range(len(nums)):\n",
    "        temp = []\n",
    "        for j in res:\n",
    "            print(temp)\n",
    "            temp.append(j+[nums[i]])\n",
    "            print(\"---\")\n",
    "            print(res)\n",
    "        res = res+temp\n",
    "        print(\"--------------\")\n",
    "        print(res)\n",
    "    return res"
   ]
  },
  {
   "cell_type": "code",
   "execution_count": 52,
   "metadata": {},
   "outputs": [
    {
     "name": "stdout",
     "output_type": "stream",
     "text": [
      "[]\n",
      "---\n",
      "[[]]\n",
      "--------------\n",
      "[[], [1]]\n",
      "[]\n",
      "---\n",
      "[[], [1]]\n",
      "[[2]]\n",
      "---\n",
      "[[], [1]]\n",
      "--------------\n",
      "[[], [1], [2], [1, 2]]\n",
      "[]\n",
      "---\n",
      "[[], [1], [2], [1, 2]]\n",
      "[[3]]\n",
      "---\n",
      "[[], [1], [2], [1, 2]]\n",
      "[[3], [1, 3]]\n",
      "---\n",
      "[[], [1], [2], [1, 2]]\n",
      "[[3], [1, 3], [2, 3]]\n",
      "---\n",
      "[[], [1], [2], [1, 2]]\n",
      "--------------\n",
      "[[], [1], [2], [1, 2], [3], [1, 3], [2, 3], [1, 2, 3]]\n"
     ]
    },
    {
     "data": {
      "text/plain": [
       "[[], [1], [2], [1, 2], [3], [1, 3], [2, 3], [1, 2, 3]]"
      ]
     },
     "execution_count": 52,
     "metadata": {},
     "output_type": "execute_result"
    }
   ],
   "source": [
    "nums = [1,2,3]\n",
    "subsets(nums)"
   ]
  },
  {
   "cell_type": "code",
   "execution_count": 45,
   "metadata": {},
   "outputs": [],
   "source": [
    "nums.append([4]+[nums[0]])"
   ]
  },
  {
   "cell_type": "code",
   "execution_count": 46,
   "metadata": {},
   "outputs": [
    {
     "data": {
      "text/plain": [
       "[1, 2, 3, [4, 1]]"
      ]
     },
     "execution_count": 46,
     "metadata": {},
     "output_type": "execute_result"
    }
   ],
   "source": [
    "nums"
   ]
  },
  {
   "cell_type": "code",
   "execution_count": 56,
   "metadata": {},
   "outputs": [],
   "source": [
    "def susbets(nums):\n",
    "    def dfs(path,nums):\n",
    "        res.append(path)\n",
    "        print(res)\n",
    "        for j in range(len(nums)):\n",
    "            dfs(path+[nums[j]],nums[j+1:])\n",
    "    res=[]\n",
    "    dfs([],nums)\n",
    "    return res"
   ]
  },
  {
   "cell_type": "code",
   "execution_count": 67,
   "metadata": {},
   "outputs": [
    {
     "name": "stdout",
     "output_type": "stream",
     "text": [
      "[[]]\n",
      "[[], [1]]\n",
      "[[], [1], [1, 2]]\n",
      "[[], [1], [1, 2], [1, 2, 2]]\n",
      "[[], [1], [1, 2], [1, 2, 2], [1, 2]]\n",
      "[[], [1], [1, 2], [1, 2, 2], [1, 2], [2]]\n",
      "[[], [1], [1, 2], [1, 2, 2], [1, 2], [2], [2, 2]]\n",
      "[[], [1], [1, 2], [1, 2, 2], [1, 2], [2], [2, 2], [2]]\n"
     ]
    },
    {
     "data": {
      "text/plain": [
       "[[], [1], [1, 2], [1, 2, 2], [1, 2], [2], [2, 2], [2]]"
      ]
     },
     "execution_count": 67,
     "metadata": {},
     "output_type": "execute_result"
    }
   ],
   "source": [
    "nums = [1,2,2]\n",
    "susbets(nums)"
   ]
  },
  {
   "cell_type": "code",
   "execution_count": 70,
   "metadata": {},
   "outputs": [],
   "source": [
    "def sub(nums):\n",
    "    res=[]\n",
    "    nums.sort()\n",
    "    \n",
    "    def dfs(nums, index, path, res):\n",
    "        res.append(path)\n",
    "        for i in range(index, len(nums)):\n",
    "            if i > index and nums[i] == nums[i-1]:\n",
    "                continue\n",
    "            dfs(nums, i+1, path+[nums[i]], res)\n",
    "        res=[]\n",
    "    dfs(nums,0,[],res)\n",
    "    return res\n",
    "    \n",
    "    \n",
    "\n"
   ]
  },
  {
   "cell_type": "code",
   "execution_count": 71,
   "metadata": {},
   "outputs": [
    {
     "data": {
      "text/plain": [
       "[[], [1], [1, 2], [1, 2, 2], [2], [2, 2]]"
      ]
     },
     "execution_count": 71,
     "metadata": {},
     "output_type": "execute_result"
    }
   ],
   "source": [
    "nums = [1,2,2]\n",
    "sub(nums)"
   ]
  },
  {
   "cell_type": "code",
   "execution_count": 75,
   "metadata": {},
   "outputs": [
    {
     "name": "stdout",
     "output_type": "stream",
     "text": [
      "hello0\n",
      "hello1\n",
      "hello3\n",
      "hello4\n",
      "hello5\n",
      "hello6\n",
      "hello7\n",
      "hello8\n",
      "hello9\n"
     ]
    }
   ],
   "source": [
    "for i in range(0,10):\n",
    "    if i==2:\n",
    "        continue\n",
    "    print(\"hello\"+str(i))"
   ]
  },
  {
   "cell_type": "code",
   "execution_count": 83,
   "metadata": {},
   "outputs": [],
   "source": [
    "a=[[1,2],[2,3]]\n",
    "tr=2\n",
    "def br(a,tr):\n",
    "    return any (tr in row for row in a)"
   ]
  },
  {
   "cell_type": "code",
   "execution_count": 84,
   "metadata": {},
   "outputs": [
    {
     "data": {
      "text/plain": [
       "True"
      ]
     },
     "execution_count": 84,
     "metadata": {},
     "output_type": "execute_result"
    }
   ],
   "source": [
    "br(a,tr)"
   ]
  },
  {
   "cell_type": "code",
   "execution_count": 87,
   "metadata": {},
   "outputs": [],
   "source": [
    "sx=2\n",
    "ex=4\n",
    "cx = (sx + ex) >> 1"
   ]
  },
  {
   "cell_type": "code",
   "execution_count": 88,
   "metadata": {},
   "outputs": [
    {
     "data": {
      "text/plain": [
       "3"
      ]
     },
     "execution_count": 88,
     "metadata": {},
     "output_type": "execute_result"
    }
   ],
   "source": [
    "cx"
   ]
  },
  {
   "cell_type": "code",
   "execution_count": 97,
   "metadata": {},
   "outputs": [],
   "source": []
  },
  {
   "cell_type": "code",
   "execution_count": 98,
   "metadata": {},
   "outputs": [
    {
     "name": "stdout",
     "output_type": "stream",
     "text": [
      "0 1\n",
      "==\n",
      "0 1\n",
      "--\n",
      "0 0\n",
      "1 1\n",
      "==\n",
      "0 1\n",
      "--\n",
      "1 0\n"
     ]
    },
    {
     "data": {
      "text/plain": [
       "True"
      ]
     },
     "execution_count": 98,
     "metadata": {},
     "output_type": "execute_result"
    }
   ],
   "source": [
    "searchMatrix(a,tr)"
   ]
  },
  {
   "cell_type": "code",
   "execution_count": 99,
   "metadata": {},
   "outputs": [
    {
     "data": {
      "text/plain": [
       "1"
      ]
     },
     "execution_count": 99,
     "metadata": {},
     "output_type": "execute_result"
    }
   ],
   "source": [
    "3 >>1"
   ]
  },
  {
   "cell_type": "code",
   "execution_count": 102,
   "metadata": {},
   "outputs": [
    {
     "data": {
      "text/plain": [
       "'0b11'"
      ]
     },
     "execution_count": 102,
     "metadata": {},
     "output_type": "execute_result"
    }
   ],
   "source": [
    "bin(3)"
   ]
  },
  {
   "cell_type": "code",
   "execution_count": 104,
   "metadata": {},
   "outputs": [
    {
     "data": {
      "text/plain": [
       "'0b10'"
      ]
     },
     "execution_count": 104,
     "metadata": {},
     "output_type": "execute_result"
    }
   ],
   "source": [
    "bin(2)"
   ]
  },
  {
   "cell_type": "code",
   "execution_count": null,
   "metadata": {},
   "outputs": [],
   "source": [
    "#suing binary search O(m*log(n))\n",
    "class Solution(object):\n",
    "    # @param {integer[][]} matrix\n",
    "    # @param {integer} target\n",
    "    # @return {boolean}\n",
    "    def searchMatrix(self, matrix, target):\n",
    "        if len(matrix) == 0 or len(matrix[0]) == 0:\n",
    "            return False\n",
    "        \n",
    "        y = len(matrix[0]) - 1\n",
    "        \n",
    "        def binSearch(nums, low, high):\n",
    "            while low <= high:\n",
    "                mid = (low + high) / 2\n",
    "                if nums[mid] > target:\n",
    "                    high = mid - 1\n",
    "                else:\n",
    "                    low = mid + 1\n",
    "            return high\n",
    "        for x in range(len(matrix)):\n",
    "            y = binSearch(matrix[x], 0, y)\n",
    "            if matrix[x][y] == target:\n",
    "                return True\n",
    "        return False"
   ]
  },
  {
   "cell_type": "code",
   "execution_count": null,
   "metadata": {},
   "outputs": [],
   "source": [
    "#IsValidBSt\n",
    "#Time Complexity:o(N)\n",
    "#Space Complexity: o(1)\n",
    "def get_m(node,ext):\n",
    "        if node is None: return\n",
    "        if node.val<ext[0]: ext[0]=node.val\n",
    "        if node.val>ext[1]: ext[1]=node.val\n",
    "        get_m(node.left,ext)\n",
    "        get_m(node.right,ext)\n",
    "    \n",
    "def trav_bst(node,min_1,max_1):\n",
    "    if node is None: return True\n",
    "    if node.val<=min_1 or node.val>=max_1: return False\n",
    "    return trav_bst(node.left,min_1,node.val) and trav_bst(node.right,node.val,max_1)\n",
    "    \n",
    "\n",
    "class Solution(object):\n",
    "    \n",
    "    def isValidBST(self, root):\n",
    "        \"\"\"\n",
    "        :type root: TreeNode\n",
    "        :rtype: bool\n",
    "        \"\"\"\n",
    "        if root is None:\n",
    "            return\n",
    "        e=[root.val,root.val]\n",
    "        get_m(root,e)\n",
    "        return trav_bst(root,e[0]-1,e[1]+1)\n",
    "\n"
   ]
  },
  {
   "cell_type": "code",
   "execution_count": null,
   "metadata": {},
   "outputs": [],
   "source": [
    "#IsValidBSt\n",
    "#Time Complexity:o(N)\n",
    "#Space Complexity: o(N)\n",
    "def fill_1(root,l):\n",
    "        if root is None:\n",
    "            return\n",
    "        fill_1(root.left,l)\n",
    "        l.append(root.val)\n",
    "        fill_1(root.right,l)\n",
    "        \n",
    "class Solution(object):\n",
    "    \n",
    "        \n",
    "    def isValidBST(self, root):\n",
    "        \"\"\"\n",
    "        :type root: TreeNode\n",
    "        :rtype: bool\n",
    "        \"\"\"\n",
    "        l=[]\n",
    "        fill_1(root,l)\n",
    "        for i in range(len(l)-1):\n",
    "            if l[i]>=l[i+1]:\n",
    "                return False\n",
    "        return True\n",
    "        \n"
   ]
  },
  {
   "cell_type": "code",
   "execution_count": 22,
   "metadata": {},
   "outputs": [],
   "source": []
  },
  {
   "cell_type": "code",
   "execution_count": 23,
   "metadata": {},
   "outputs": [
    {
     "name": "stdout",
     "output_type": "stream",
     "text": [
      "False\n",
      "False\n",
      "----\n",
      "0\n",
      "----\n",
      "1\n",
      "----\n",
      "1\n",
      "----\n",
      "1\n",
      "[[1, 0, 1], [0, 0, 1], [1, 1, 1]]\n",
      "[[1, 0, 1], [0, 0, 0], [1, 0, 1]]\n"
     ]
    }
   ],
   "source": [
    "g=[\n",
    "  [1,1,1],\n",
    "  [1,0,1],\n",
    "  [1,1,1]\n",
    "]\n",
    "setZeroes(g)"
   ]
  },
  {
   "cell_type": "code",
   "execution_count": 24,
   "metadata": {},
   "outputs": [
    {
     "data": {
      "text/plain": [
       "[[1, 0, 1], [0, 0, 0], [1, 0, 1]]"
      ]
     },
     "execution_count": 24,
     "metadata": {},
     "output_type": "execute_result"
    }
   ],
   "source": [
    "g"
   ]
  },
  {
   "cell_type": "code",
   "execution_count": 30,
   "metadata": {},
   "outputs": [],
   "source": [
    "from collections import defaultdict\n",
    "def groupAnagrams(strs):\n",
    "        \"\"\"\n",
    "        :type strs: List[str]\n",
    "        :rtype: List[List[str]]\n",
    "        \"\"\"\n",
    "        # Anagrams share the same letters, so make a dictionary\n",
    "        anagrams = defaultdict(list)\n",
    "        \n",
    "        # Iterate through strs and add them to anagrams\n",
    "        for s in strs:\n",
    "            key = ''.join(sorted(s))\n",
    "            print(key)\n",
    "            anagrams[key].append(s)\n",
    "            print(\"--\")\n",
    "            print(anagrams)\n",
    "            \n",
    "        # Return the dictionary values\n",
    "        return [anagrams[k] for k in anagrams]"
   ]
  },
  {
   "cell_type": "code",
   "execution_count": 31,
   "metadata": {},
   "outputs": [
    {
     "name": "stdout",
     "output_type": "stream",
     "text": [
      "aet\n",
      "--\n",
      "defaultdict(<class 'list'>, {'aet': ['eat']})\n",
      "aet\n",
      "--\n",
      "defaultdict(<class 'list'>, {'aet': ['eat', 'tea']})\n",
      "ant\n",
      "--\n",
      "defaultdict(<class 'list'>, {'aet': ['eat', 'tea'], 'ant': ['tan']})\n",
      "aet\n",
      "--\n",
      "defaultdict(<class 'list'>, {'aet': ['eat', 'tea', 'ate'], 'ant': ['tan']})\n",
      "ant\n",
      "--\n",
      "defaultdict(<class 'list'>, {'aet': ['eat', 'tea', 'ate'], 'ant': ['tan', 'nat']})\n",
      "abt\n",
      "--\n",
      "defaultdict(<class 'list'>, {'aet': ['eat', 'tea', 'ate'], 'ant': ['tan', 'nat'], 'abt': ['bat']})\n"
     ]
    },
    {
     "data": {
      "text/plain": [
       "[['eat', 'tea', 'ate'], ['tan', 'nat'], ['bat']]"
      ]
     },
     "execution_count": 31,
     "metadata": {},
     "output_type": "execute_result"
    }
   ],
   "source": [
    "d=[\"eat\", \"tea\", \"tan\", \"ate\", \"nat\", \"bat\"]\n",
    "groupAnagrams(d)"
   ]
  },
  {
   "cell_type": "code",
   "execution_count": 82,
   "metadata": {},
   "outputs": [],
   "source": [
    "#Word Break\n",
    "def _word_break(s, words, start, seen):\n",
    "    \n",
    "        print(start)\n",
    "        if start == len(s):\n",
    "            return True\n",
    "        if start in seen:\n",
    "            \n",
    "            return False\n",
    "        for i in range(start+1, len(s)+1):\n",
    "            if i in seen:\n",
    "                continue\n",
    "            sub = s[start:i]\n",
    "            print(sub)\n",
    "            if sub in words and _word_break(s, words, i, seen):\n",
    "                return True\n",
    "        seen.add(start)\n",
    "        \n",
    "        return False"
   ]
  },
  {
   "cell_type": "code",
   "execution_count": 83,
   "metadata": {},
   "outputs": [],
   "source": [
    "def wordBreak(s, words):\n",
    "    return _word_break(s, set(words), 0, set())"
   ]
  },
  {
   "cell_type": "code",
   "execution_count": 84,
   "metadata": {},
   "outputs": [
    {
     "name": "stdout",
     "output_type": "stream",
     "text": [
      "0\n",
      "c\n",
      "ca\n",
      "cat\n",
      "3\n",
      "s\n",
      "sa\n",
      "san\n",
      "sand\n",
      "7\n",
      "o\n",
      "og\n",
      "sando\n",
      "sandog\n",
      "cats\n",
      "4\n",
      "a\n",
      "an\n",
      "ando\n",
      "andog\n",
      "catsa\n",
      "catsan\n",
      "catsando\n",
      "catsandog\n"
     ]
    },
    {
     "data": {
      "text/plain": [
       "False"
      ]
     },
     "execution_count": 84,
     "metadata": {},
     "output_type": "execute_result"
    }
   ],
   "source": [
    "s = \"catsandog\"\n",
    "wordDict = [\"cats\", \"dog\", \"sand\", \"and\", \"cat\"]\n",
    "wordBreak(s,wordDict)"
   ]
  },
  {
   "cell_type": "code",
   "execution_count": 109,
   "metadata": {},
   "outputs": [],
   "source": [
    "#Using Queues\n",
    "def wordBreak(s, wordDict):\n",
    "        queue = [s]\n",
    "        visitSet = set([s])\n",
    "        while queue:\n",
    "            front = queue.pop(0)\n",
    "            print(front)\n",
    "            if front in wordDict:\n",
    "                return True\n",
    "            prefix = ''\n",
    "            print(\"----\")\n",
    "            print(front)\n",
    "            for c in front:\n",
    "                prefix += c\n",
    "      \n",
    "                print(prefix)\n",
    "                suffix = front[len(prefix):]\n",
    "                #print(front)\n",
    "                if prefix in wordDict and suffix not in visitSet:\n",
    "                 \n",
    "                    queue.append(suffix)\n",
    "                    visitSet.add(suffix)\n",
    "                    print(queue)\n",
    "                    print(visitSet)\n",
    "           \n",
    "        return False"
   ]
  },
  {
   "cell_type": "code",
   "execution_count": 110,
   "metadata": {},
   "outputs": [
    {
     "name": "stdout",
     "output_type": "stream",
     "text": [
      "catsandog\n",
      "----\n",
      "catsandog\n",
      "c\n",
      "ca\n",
      "cat\n",
      "['sandog']\n",
      "{'sandog', 'catsandog'}\n",
      "cats\n",
      "['sandog', 'andog']\n",
      "{'andog', 'sandog', 'catsandog'}\n",
      "catsa\n",
      "catsan\n",
      "catsand\n",
      "catsando\n",
      "catsandog\n",
      "sandog\n",
      "----\n",
      "sandog\n",
      "s\n",
      "sa\n",
      "san\n",
      "sand\n",
      "['andog', 'og']\n",
      "{'andog', 'sandog', 'og', 'catsandog'}\n",
      "sando\n",
      "sandog\n",
      "andog\n",
      "----\n",
      "andog\n",
      "a\n",
      "an\n",
      "and\n",
      "ando\n",
      "andog\n",
      "og\n",
      "----\n",
      "og\n",
      "o\n",
      "og\n"
     ]
    },
    {
     "data": {
      "text/plain": [
       "False"
      ]
     },
     "execution_count": 110,
     "metadata": {},
     "output_type": "execute_result"
    }
   ],
   "source": [
    "s = \"catsandog\"\n",
    "wordDict = [\"cats\", \"dog\", \"sand\", \"and\", \"cat\"]\n",
    "wordBreak(s,wordDict)"
   ]
  },
  {
   "cell_type": "code",
   "execution_count": 120,
   "metadata": {},
   "outputs": [],
   "source": [
    "def wordBreak(s, words):\n",
    "        ok = [True]\n",
    "        for i in range(1, len(s)+1):\n",
    "            ok += any(ok[j] and s[j:i] in words for j in range(i)),\n",
    "        return ok[-1]"
   ]
  },
  {
   "cell_type": "code",
   "execution_count": 122,
   "metadata": {},
   "outputs": [
    {
     "data": {
      "text/plain": [
       "True"
      ]
     },
     "execution_count": 122,
     "metadata": {},
     "output_type": "execute_result"
    }
   ],
   "source": [
    "s = \"catsanddog\"\n",
    "wordDict = [\"cats\", \"dog\", \"sand\", \"and\", \"cat\"]\n",
    "wordBreak(s,wordDict)"
   ]
  },
  {
   "cell_type": "code",
   "execution_count": 265,
   "metadata": {},
   "outputs": [],
   "source": [
    "#Longest Pallindrome String\n",
    "def longestPalindrome(s):\n",
    "        \"\"\"\n",
    "        :type s: str\n",
    "        :rtype: str\n",
    "        \"\"\"\n",
    "        length=0\n",
    "        dp = [[False] * len(s) for _ in range(len(s))]\n",
    "  \n",
    "      #  return dp\n",
    "        for i in reversed(range(len(s))):\n",
    "        \n",
    "            for j in range(i,len(s)):\n",
    "#without j-i  dp[i+1][j-1]will out of range \n",
    "                \n",
    "                print(i,j)\n",
    "                if  s[i]==s[j] and (j-i<3 or dp[i+1][j-1]==True):\n",
    "                    \n",
    "                    dp[i][j]=True\n",
    "# without = it will be the lasted  Palindromic Substring     such as: babdb  result is bdb not bab   \n",
    "                if dp[i][j]==True and length<=j-i+1: \n",
    "                    \n",
    "                    length=j-i+1\n",
    "                    ans=s[i:j+1]  \n",
    "                \n",
    "        return ans   "
   ]
  },
  {
   "cell_type": "code",
   "execution_count": 266,
   "metadata": {},
   "outputs": [
    {
     "name": "stdout",
     "output_type": "stream",
     "text": [
      "6 6\n",
      "5 5\n",
      "5 6\n",
      "4 4\n",
      "4 5\n",
      "4 6\n",
      "3 3\n",
      "3 4\n",
      "3 5\n",
      "3 6\n",
      "2 2\n",
      "2 3\n",
      "2 4\n",
      "2 5\n",
      "2 6\n",
      "1 1\n",
      "1 2\n",
      "1 3\n",
      "1 4\n",
      "1 5\n",
      "1 6\n",
      "0 0\n",
      "0 1\n",
      "0 2\n",
      "0 3\n",
      "0 4\n",
      "0 5\n",
      "0 6\n"
     ]
    },
    {
     "data": {
      "text/plain": [
       "'abbba'"
      ]
     },
     "execution_count": 266,
     "metadata": {},
     "output_type": "execute_result"
    }
   ],
   "source": [
    "longestPalindrome(\"babbbad\")"
   ]
  },
  {
   "cell_type": "code",
   "execution_count": 131,
   "metadata": {},
   "outputs": [
    {
     "data": {
      "text/plain": [
       "Counter({'a': 2, 'b': 2, 'd': 1})"
      ]
     },
     "execution_count": 131,
     "metadata": {},
     "output_type": "execute_result"
    }
   ],
   "source": [
    "s=Counter(\"bababad\")"
   ]
  },
  {
   "cell_type": "code",
   "execution_count": 139,
   "metadata": {},
   "outputs": [
    {
     "name": "stdout",
     "output_type": "stream",
     "text": [
      "4\n",
      "3\n",
      "2\n",
      "1\n",
      "0\n"
     ]
    }
   ],
   "source": [
    "s=\"babad\"\n",
    "for i in reversed(range(len(s))):\n",
    "    print(i)"
   ]
  },
  {
   "cell_type": "code",
   "execution_count": 180,
   "metadata": {},
   "outputs": [],
   "source": [
    "#Pascal triangle\n",
    "def getRow(rowIndex):\n",
    "        \"\"\"\n",
    "        :type rowIndex: int\n",
    "        :rtype: List[int]\n",
    "        \"\"\"\n",
    "        if rowIndex == 0:\n",
    "            return [1]\n",
    "        row = [1, 1]\n",
    "        for i in range(1, rowIndex):\n",
    "            row = [1] + [x+y for x, y in zip(row, row[1:])] + [1]\n",
    "        return row"
   ]
  },
  {
   "cell_type": "code",
   "execution_count": 182,
   "metadata": {},
   "outputs": [
    {
     "data": {
      "text/plain": [
       "[1, 3, 3, 1]"
      ]
     },
     "execution_count": 182,
     "metadata": {},
     "output_type": "execute_result"
    }
   ],
   "source": [
    "getRow(4)"
   ]
  },
  {
   "cell_type": "code",
   "execution_count": 183,
   "metadata": {},
   "outputs": [
    {
     "data": {
      "text/plain": [
       "[1, 4, 6, 4, 1]"
      ]
     },
     "execution_count": 183,
     "metadata": {},
     "output_type": "execute_result"
    }
   ],
   "source": [
    "getRow(4)"
   ]
  },
  {
   "cell_type": "code",
   "execution_count": 197,
   "metadata": {},
   "outputs": [],
   "source": [
    "row=[1,2,3,4]"
   ]
  },
  {
   "cell_type": "code",
   "execution_count": 188,
   "metadata": {},
   "outputs": [
    {
     "data": {
      "text/plain": [
       "[2]"
      ]
     },
     "execution_count": 188,
     "metadata": {},
     "output_type": "execute_result"
    }
   ],
   "source": [
    "row[1:]"
   ]
  },
  {
   "cell_type": "code",
   "execution_count": 198,
   "metadata": {},
   "outputs": [],
   "source": [
    "a=set(zip(row,row[1:]))"
   ]
  },
  {
   "cell_type": "code",
   "execution_count": 199,
   "metadata": {},
   "outputs": [
    {
     "data": {
      "text/plain": [
       "{(1, 2), (2, 3), (3, 4)}"
      ]
     },
     "execution_count": 199,
     "metadata": {},
     "output_type": "execute_result"
    }
   ],
   "source": [
    "a"
   ]
  },
  {
   "cell_type": "code",
   "execution_count": 208,
   "metadata": {},
   "outputs": [],
   "source": [
    "def getRow(rowIndex):\n",
    "        \"\"\"\n",
    "        :type rowIndex: int\n",
    "        :rtype: List[int]\n",
    "        \"\"\"\n",
    "        dp = [[1] * (rowIndex+1) for _ in range(2)]\n",
    "        print(dp)\n",
    "        for i in range(rowIndex+1):\n",
    "            for j in range(1, i):\n",
    "                dp[i%2][j] = dp[(i-1)%2][j-1] + dp[(i-1)%2][j]\n",
    "        print(dp)\n",
    "\n",
    "        return dp[rowIndex%2]"
   ]
  },
  {
   "cell_type": "code",
   "execution_count": 209,
   "metadata": {},
   "outputs": [
    {
     "name": "stdout",
     "output_type": "stream",
     "text": [
      "[[1, 1, 1, 1, 1], [1, 1, 1, 1, 1]]\n",
      "[[1, 4, 6, 4, 1], [1, 3, 3, 1, 1]]\n"
     ]
    },
    {
     "data": {
      "text/plain": [
       "[1, 4, 6, 4, 1]"
      ]
     },
     "execution_count": 209,
     "metadata": {},
     "output_type": "execute_result"
    }
   ],
   "source": [
    "getRow(4)"
   ]
  },
  {
   "cell_type": "code",
   "execution_count": 232,
   "metadata": {},
   "outputs": [],
   "source": [
    "def getRow(rowIndex):\n",
    "    curr_row=[]\n",
    "    k=0\n",
    "    while k < rowIndex+1:\n",
    "        nextrow=[]\n",
    "        print(k)\n",
    "        for i in range(k+1):\n",
    "            print(i)\n",
    "            if i==0 or i==k:\n",
    "                nextrow.append(1)\n",
    "            else:\n",
    "                nextrow.append(curr_row[i-1]+curr_row[i])\n",
    "                print(nextrow)\n",
    "        curr_row=nextrow\n",
    "        k+=1\n",
    "        \n",
    "    return curr_row"
   ]
  },
  {
   "cell_type": "code",
   "execution_count": 233,
   "metadata": {},
   "outputs": [
    {
     "name": "stdout",
     "output_type": "stream",
     "text": [
      "0\n",
      "0\n",
      "1\n",
      "0\n",
      "1\n",
      "2\n",
      "0\n",
      "1\n",
      "[1, 2]\n",
      "2\n",
      "3\n",
      "0\n",
      "1\n",
      "[1, 3]\n",
      "2\n",
      "[1, 3, 3]\n",
      "3\n",
      "4\n",
      "0\n",
      "1\n",
      "[1, 4]\n",
      "2\n",
      "[1, 4, 6]\n",
      "3\n",
      "[1, 4, 6, 4]\n",
      "4\n"
     ]
    },
    {
     "data": {
      "text/plain": [
       "[1, 4, 6, 4, 1]"
      ]
     },
     "execution_count": 233,
     "metadata": {},
     "output_type": "execute_result"
    }
   ],
   "source": [
    "getRow(4)"
   ]
  },
  {
   "cell_type": "code",
   "execution_count": 224,
   "metadata": {},
   "outputs": [],
   "source": [
    "def getRow(rowIndex):\n",
    "        \"\"\"\n",
    "        :type rowIndex: int\n",
    "        :rtype: List[int]\n",
    "        \"\"\"\n",
    "        k = 0\n",
    "        currRow = []\n",
    "        while k < rowIndex + 1:\n",
    "            print(k)\n",
    "            nextRow = []\n",
    "            for pos in range(k+1):\n",
    "                print(pos)\n",
    "                if pos == 0 or pos == k:\n",
    "                    nextRow.append(1)\n",
    "                else:\n",
    "                    nextRow.append(currRow[pos - 1] + currRow[pos])\n",
    "            currRow = nextRow\n",
    "            k += 1\n",
    "        \n",
    "        return currRow"
   ]
  },
  {
   "cell_type": "code",
   "execution_count": 225,
   "metadata": {},
   "outputs": [
    {
     "name": "stdout",
     "output_type": "stream",
     "text": [
      "0\n",
      "0\n",
      "1\n",
      "0\n",
      "1\n",
      "2\n",
      "0\n",
      "1\n",
      "2\n",
      "3\n",
      "0\n",
      "1\n",
      "2\n",
      "3\n",
      "4\n",
      "0\n",
      "1\n",
      "2\n",
      "3\n",
      "4\n"
     ]
    },
    {
     "data": {
      "text/plain": [
       "[1, 4, 6, 4, 1]"
      ]
     },
     "execution_count": 225,
     "metadata": {},
     "output_type": "execute_result"
    }
   ],
   "source": [
    "getRow(4)"
   ]
  },
  {
   "cell_type": "code",
   "execution_count": 234,
   "metadata": {},
   "outputs": [],
   "source": [
    "cache = [2, 3, 5, 7, 11, 13, 17, 19, 23, 29, 31, 37, 41, 43, 47, 53, 59, 61, 67, 71, 73, 79, 83, 89, 97, 101, 103, 107, 109, 113, 127, 131, 137, 139, 149, 151, 157, 163, 167, 173, 179, 181, 191, 193, 197, 199, 211, 223, 227, 229, 233, 239, 241, 251, 257, 263, 269, 271, 277, 281, 283, 293, 307, 311, 313, 317, 331, 337, 347, 349, 353, 359, 367, 373, 379, 383, 389, 397, 401, 409, 419, 421, 431, 433, 439, 443, 449, 457, 461, 463, 467, 479, 487, 491, 499, 503, 509, 521, 523, 541, 547, 557, 563, 569, 571, 577, 587, 593, 599, 601, 607, 613, 617, 619, 631, 641, 643, 647, 653, 659, 661, 673, 677, 683, 691, 701, 709, 719, 727, 733, 739, 743, 751, 757, 761, 769, 773, 787, 797, 809, 811, 821, 823, 827, 829, 839, 853, 857, 859, 863, 877, 881, 883, 887, 907, 911, 919, 929, 937, 941, 947, 953, 967, 971, 977, 983, 991, 997, 1009, 1013, 1019, 1021, 1031, 1033, 1039, 1049, 1051, 1061, 1063, 1069, 1087, 1091, 1093, 1097, 1103, 1109, 1117, 1123, 1129, 1151, 1153, 1163, 1171, 1181, 1187, 1193, 1201, 1213, 1217, 1223, 1229, 1231, 1237, 1249, 1259, 1277, 1279, 1283, 1289, 1291, 1297, 1301, 1303, 1307, 1319, 1321, 1327, 1361, 1367, 1373, 1381, 1399, 1409, 1423, 1427, 1429, 1433, 1439, 1447, 1451, 1453, 1459, 1471, 1481, 1483, 1487, 1489, 1493, 1499, 1511, 1523, 1531, 1543, 1549, 1553, 1559, 1567, 1571, 1579, 1583, 1597, 1601, 1607, 1609, 1613, 1619, 1621, 1627, 1637, 1657, 1663, 1667, 1669, 1693, 1697, 1699, 1709, 1721, 1723, 1733, 1741, 1747, 1753, 1759, 1777, 1783, 1787, 1789, 1801, 1811, 1823, 1831, 1847, 1861, 1867, 1871, 1873, 1877, 1879, 1889, 1901, 1907, 1913, 1931, 1933, 1949, 1951, 1973, 1979, 1987, 1993, 1997, 1999, 2003, 2011, 2017, 2027, 2029, 2039, 2053, 2063, 2069, 2081, 2083, 2087, 2089, 2099, 2111, 2113, 2129, 2131, 2137, 2141, 2143, 2153, 2161, 2179, 2203, 2207, 2213, 2221, 2237, 2239, 2243, 2251, 2267, 2269, 2273, 2281, 2287, 2293, 2297, 2309, 2311, 2333, 2339, 2341, 2347, 2351, 2357, 2371, 2377, 2381, 2383, 2389, 2393, 2399, 2411, 2417, 2423, 2437, 2441, 2447, 2459, 2467, 2473, 2477, 2503, 2521, 2531, 2539, 2543, 2549, 2551, 2557, 2579, 2591, 2593, 2609, 2617, 2621, 2633, 2647, 2657, 2659, 2663, 2671, 2677, 2683, 2687, 2689, 2693, 2699, 2707, 2711, 2713, 2719, 2729, 2731, 2741, 2749, 2753, 2767, 2777, 2789, 2791, 2797, 2801, 2803, 2819, 2833, 2837, 2843, 2851, 2857, 2861, 2879, 2887, 2897, 2903, 2909, 2917, 2927, 2939, 2953, 2957, 2963, 2969, 2971, 2999, 3001, 3011, 3019, 3023, 3037, 3041, 3049, 3061, 3067, 3079, 3083, 3089, 3109, 3119, 3121, 3137, 3163, 3167, 3169, 3181, 3187, 3191, 3203, 3209, 3217, 3221, 3229, 3251, 3253, 3257, 3259, 3271, 3299, 3301, 3307, 3313, 3319, 3323, 3329, 3331, 3343, 3347, 3359, 3361, 3371, 3373, 3389, 3391, 3407, 3413, 3433, 3449, 3457, 3461, 3463, 3467, 3469, 3491, 3499, 3511, 3517, 3527, 3529, 3533, 3539, 3541, 3547, 3557, 3559, 3571, 3581, 3583, 3593, 3607, 3613, 3617, 3623, 3631, 3637, 3643, 3659, 3671, 3673, 3677, 3691, 3697, 3701, 3709, 3719, 3727, 3733, 3739, 3761, 3767, 3769, 3779, 3793, 3797, 3803, 3821, 3823, 3833, 3847, 3851, 3853, 3863, 3877, 3881, 3889, 3907, 3911, 3917, 3919, 3923, 3929, 3931, 3943, 3947, 3967, 3989, 4001, 4003, 4007, 4013, 4019, 4021, 4027, 4049, 4051, 4057, 4073, 4079, 4091, 4093, 4099, 4111, 4127, 4129, 4133, 4139, 4153, 4157, 4159, 4177, 4201, 4211, 4217, 4219, 4229, 4231, 4241, 4243, 4253, 4259, 4261, 4271, 4273, 4283, 4289, 4297, 4327, 4337, 4339, 4349, 4357, 4363, 4373, 4391, 4397, 4409, 4421, 4423, 4441, 4447, 4451, 4457, 4463, 4481, 4483, 4493, 4507, 4513, 4517, 4519, 4523, 4547, 4549, 4561, 4567, 4583, 4591, 4597, 4603, 4621, 4637, 4639, 4643, 4649, 4651, 4657, 4663, 4673, 4679, 4691, 4703, 4721, 4723, 4729, 4733, 4751, 4759, 4783, 4787, 4789, 4793, 4799, 4801, 4813, 4817, 4831, 4861, 4871, 4877, 4889, 4903, 4909, 4919, 4931, 4933, 4937, 4943, 4951, 4957, 4967, 4969, 4973, 4987, 4993, 4999, 5003, 5009, 5011, 5021, 5023, 5039, 5051, 5059, 5077, 5081, 5087, 5099, 5101, 5107, 5113, 5119, 5147, 5153, 5167, 5171, 5179, 5189, 5197, 5209, 5227, 5231, 5233, 5237, 5261, 5273, 5279, 5281, 5297, 5303, 5309, 5323, 5333, 5347, 5351, 5381, 5387, 5393, 5399, 5407, 5413, 5417, 5419, 5431, 5437, 5441, 5443, 5449, 5471, 5477, 5479, 5483, 5501, 5503, 5507, 5519, 5521, 5527, 5531, 5557, 5563, 5569, 5573, 5581, 5591, 5623, 5639, 5641, 5647, 5651, 5653, 5657, 5659, 5669, 5683, 5689, 5693, 5701, 5711, 5717, 5737, 5741, 5743, 5749, 5779, 5783, 5791, 5801, 5807, 5813, 5821, 5827, 5839, 5843, 5849, 5851, 5857, 5861, 5867, 5869, 5879, 5881, 5897, 5903, 5923, 5927, 5939, 5953, 5981, 5987, 6007, 6011, 6029, 6037, 6043, 6047, 6053, 6067, 6073, 6079, 6089, 6091, 6101, 6113, 6121, 6131, 6133, 6143, 6151, 6163, 6173, 6197, 6199, 6203, 6211, 6217, 6221, 6229, 6247, 6257, 6263, 6269, 6271, 6277, 6287, 6299, 6301, 6311, 6317, 6323, 6329, 6337, 6343, 6353, 6359, 6361, 6367, 6373, 6379, 6389, 6397, 6421, 6427, 6449, 6451, 6469, 6473, 6481, 6491, 6521, 6529, 6547, 6551, 6553, 6563, 6569, 6571, 6577, 6581, 6599, 6607, 6619, 6637, 6653, 6659, 6661, 6673, 6679, 6689, 6691, 6701, 6703, 6709, 6719, 6733, 6737, 6761, 6763, 6779, 6781, 6791, 6793, 6803, 6823, 6827, 6829, 6833, 6841, 6857, 6863, 6869, 6871, 6883, 6899, 6907, 6911, 6917, 6947, 6949, 6959, 6961, 6967, 6971, 6977, 6983, 6991, 6997, 7001, 7013, 7019, 7027, 7039, 7043, 7057, 7069, 7079, 7103, 7109, 7121, 7127, 7129, 7151, 7159, 7177, 7187, 7193, 7207, 7211, 7213, 7219, 7229, 7237, 7243, 7247, 7253, 7283, 7297, 7307, 7309, 7321, 7331, 7333, 7349, 7351, 7369, 7393, 7411, 7417, 7433, 7451, 7457, 7459, 7477, 7481, 7487, 7489, 7499, 7507, 7517, 7523, 7529, 7537, 7541, 7547, 7549, 7559, 7561, 7573, 7577, 7583, 7589, 7591, 7603, 7607, 7621, 7639, 7643, 7649, 7669, 7673, 7681, 7687, 7691, 7699, 7703, 7717, 7723, 7727, 7741, 7753, 7757, 7759, 7789, 7793, 7817, 7823, 7829, 7841, 7853, 7867, 7873, 7877, 7879, 7883, 7901, 7907, 7919, 7927, 7933, 7937, 7949, 7951, 7963, 7993, 8009, 8011, 8017, 8039, 8053, 8059, 8069, 8081, 8087, 8089, 8093, 8101, 8111, 8117, 8123, 8147, 8161, 8167, 8171, 8179, 8191, 8209, 8219, 8221, 8231, 8233, 8237, 8243, 8263, 8269, 8273, 8287, 8291, 8293, 8297, 8311, 8317, 8329, 8353, 8363, 8369, 8377, 8387, 8389, 8419, 8423, 8429, 8431, 8443, 8447, 8461, 8467, 8501, 8513, 8521, 8527, 8537, 8539, 8543, 8563, 8573, 8581, 8597, 8599, 8609, 8623, 8627, 8629, 8641, 8647, 8663, 8669, 8677, 8681, 8689, 8693, 8699, 8707, 8713, 8719, 8731, 8737, 8741, 8747, 8753, 8761, 8779, 8783, 8803, 8807, 8819, 8821, 8831, 8837, 8839, 8849, 8861, 8863, 8867, 8887, 8893, 8923, 8929, 8933, 8941, 8951, 8963, 8969, 8971, 8999, 9001, 9007, 9011, 9013, 9029, 9041, 9043, 9049, 9059, 9067, 9091, 9103, 9109, 9127, 9133, 9137, 9151, 9157, 9161, 9173, 9181, 9187, 9199, 9203, 9209, 9221, 9227, 9239, 9241, 9257, 9277, 9281, 9283, 9293, 9311, 9319, 9323, 9337, 9341, 9343, 9349, 9371, 9377, 9391, 9397, 9403, 9413, 9419, 9421, 9431, 9433, 9437, 9439, 9461, 9463, 9467, 9473, 9479, 9491, 9497, 9511, 9521, 9533, 9539, 9547, 9551, 9587, 9601, 9613, 9619, 9623, 9629, 9631, 9643, 9649, 9661, 9677, 9679, 9689, 9697, 9719, 9721, 9733, 9739, 9743, 9749, 9767, 9769, 9781, 9787, 9791, 9803, 9811, 9817, 9829, 9833, 9839, 9851, 9857, 9859, 9871, 9883, 9887, 9901, 9907, 9923, 9929, 9931, 9941, 9949, 9967, 9973]\n",
    "  "
   ]
  },
  {
   "cell_type": "code",
   "execution_count": 258,
   "metadata": {},
   "outputs": [],
   "source": [
    "#Repeated Substring  \n",
    "#You only really need to check if the string can be created by concatenating X number of \n",
    "#its substrings where X equals to a prime number, since any other number can be decomposed into prime factors.\n",
    "def repeatedSubstringPattern( s):\n",
    "        \"\"\"\n",
    "        :type s: str\n",
    "        :rtype: bool\n",
    "        \"\"\"\n",
    "        size = len(s)\n",
    "        for x in cache:\n",
    "            print(x)\n",
    "            if x > size:\n",
    "                return False\n",
    "            if len(s) % x == 0:\n",
    "                print(x* s[:(len(s) // x)])\n",
    "                if x * s[:(len(s) // x)] == s:\n",
    "                    \n",
    "                    return True\n",
    "        return False"
   ]
  },
  {
   "cell_type": "code",
   "execution_count": 261,
   "metadata": {},
   "outputs": [
    {
     "name": "stdout",
     "output_type": "stream",
     "text": [
      "2\n",
      "aa\n",
      "3\n"
     ]
    },
    {
     "data": {
      "text/plain": [
       "False"
      ]
     },
     "execution_count": 261,
     "metadata": {},
     "output_type": "execute_result"
    }
   ],
   "source": [
    "repeatedSubstringPattern(\"ab\")"
   ]
  },
  {
   "cell_type": "code",
   "execution_count": 262,
   "metadata": {},
   "outputs": [],
   "source": [
    "def repeatedSubstringPattern(str_):\n",
    "    if not str_:\n",
    "        return False\n",
    "    ss=(str_ + str_)[1:-1]\n",
    "    return ss.find(str_)!=-1"
   ]
  },
  {
   "cell_type": "code",
   "execution_count": 265,
   "metadata": {},
   "outputs": [
    {
     "data": {
      "text/plain": [
       "True"
      ]
     },
     "execution_count": 265,
     "metadata": {},
     "output_type": "execute_result"
    }
   ],
   "source": [
    "repeatedSubstringPattern(\"abcdeabcdeabcde\")"
   ]
  },
  {
   "cell_type": "code",
   "execution_count": 280,
   "metadata": {},
   "outputs": [],
   "source": [
    "#selling stocks\n",
    "def maxProfit( prices):\n",
    "        \"\"\"\n",
    "        :type prices: List[int]\n",
    "        :rtype: int\n",
    "        \"\"\"\n",
    "        if not prices or len(prices) < 2:\n",
    "            return 0\n",
    "        # DP solution:\n",
    "        # Use dp to record [lowest price seen before, maximum profit] of each day\n",
    "        dp = [[prices[0], 0]]\n",
    "        for i in range(1, len(prices)):\n",
    "            print(i)\n",
    "            if prices[i] <= dp[i-1][0]:\n",
    "                dp.append([prices[i], dp[i-1][1]])\n",
    "                print(\"++++++++\")\n",
    "                print(dp)\n",
    "                print(\"+++++++++\")\n",
    "            else:\n",
    "                profit = prices[i] - dp[i-1][0]\n",
    "                print(profit)\n",
    "                if profit > dp[i-1][1]:\n",
    "                    dp.append([dp[i-1][0], profit])\n",
    "                    print(\"-------\")\n",
    "                    print(dp)\n",
    "                    print(\"-------\")\n",
    "                else:\n",
    "                    dp.append(dp[i-1])\n",
    "                    print(\"*******\")\n",
    "                    print(dp)\n",
    "                    print(\"*******\")\n",
    "        \n",
    "        return dp[-1][1]"
   ]
  },
  {
   "cell_type": "code",
   "execution_count": 281,
   "metadata": {},
   "outputs": [
    {
     "name": "stdout",
     "output_type": "stream",
     "text": [
      "1\n",
      "++++++++\n",
      "[[7, 0], [1, 0]]\n",
      "+++++++++\n",
      "2\n",
      "4\n",
      "-------\n",
      "[[7, 0], [1, 0], [1, 4]]\n",
      "-------\n",
      "3\n",
      "2\n",
      "*******\n",
      "[[7, 0], [1, 0], [1, 4], [1, 4]]\n",
      "*******\n",
      "4\n",
      "5\n",
      "-------\n",
      "[[7, 0], [1, 0], [1, 4], [1, 4], [1, 5]]\n",
      "-------\n",
      "5\n",
      "3\n",
      "*******\n",
      "[[7, 0], [1, 0], [1, 4], [1, 4], [1, 5], [1, 5]]\n",
      "*******\n"
     ]
    },
    {
     "data": {
      "text/plain": [
       "5"
      ]
     },
     "execution_count": 281,
     "metadata": {},
     "output_type": "execute_result"
    }
   ],
   "source": [
    "A=[7,1,5,3,6,4]\n",
    "maxProfit(A)"
   ]
  },
  {
   "cell_type": "code",
   "execution_count": 21,
   "metadata": {},
   "outputs": [],
   "source": [
    "def num_subsequences(seq, sub):\n",
    "    if not sub:\n",
    "        return 1\n",
    "    elif not seq:\n",
    "        return 0\n",
    "    result = num_subsequences(seq[1:], sub)\n",
    "    print(seq[1:])\n",
    "    print(\"--------\")\n",
    "    if seq[0] == sub[0]:\n",
    "        print(\"********\")\n",
    "        print(seq[0])\n",
    "        result += num_subsequences(seq[1:], sub[1:])\n",
    "    return result"
   ]
  },
  {
   "cell_type": "code",
   "execution_count": 22,
   "metadata": {},
   "outputs": [
    {
     "name": "stdout",
     "output_type": "stream",
     "text": [
      "\n",
      "--------\n",
      "Y\n",
      "--------\n",
      "********\n",
      "B\n",
      "\n",
      "--------\n",
      "BY\n",
      "--------\n",
      "ABY\n",
      "--------\n",
      "********\n",
      "B\n",
      "\n",
      "--------\n",
      "Y\n",
      "--------\n",
      "BY\n",
      "--------\n",
      "********\n",
      "A\n",
      "\n",
      "--------\n",
      "Y\n",
      "--------\n",
      "********\n",
      "B\n",
      "BABY\n",
      "--------\n",
      "ABABY\n",
      "--------\n",
      "********\n",
      "B\n",
      "\n",
      "--------\n",
      "Y\n",
      "--------\n",
      "BY\n",
      "--------\n",
      "********\n",
      "A\n",
      "\n",
      "--------\n",
      "Y\n",
      "--------\n",
      "********\n",
      "B\n",
      "ABY\n",
      "--------\n",
      "BABY\n",
      "--------\n",
      "********\n",
      "A\n",
      "\n",
      "--------\n",
      "Y\n",
      "--------\n",
      "********\n",
      "B\n",
      "BY\n",
      "--------\n",
      "ABY\n",
      "--------\n",
      "********\n",
      "B\n"
     ]
    },
    {
     "data": {
      "text/plain": [
       "4"
      ]
     },
     "execution_count": 22,
     "metadata": {},
     "output_type": "execute_result"
    }
   ],
   "source": [
    "num_subsequences('BABABY','BAB')"
   ]
  },
  {
   "cell_type": "code",
   "execution_count": 50,
   "metadata": {},
   "outputs": [],
   "source": [
    "\n",
    "def num_subsequences(seq, sub):\n",
    "    m, n = len(seq)+1, len(sub)+1\n",
    "    table = [[0]*n for i in range(m)]\n",
    "    print(table)\n",
    "    def count(iseq, isub):\n",
    "        if not isub:\n",
    "            return 1\n",
    "        elif not iseq:\n",
    "            return 0\n",
    "        print(seq[m-iseq-1])\n",
    "        return (table[iseq-1][isub] +\n",
    "               (table[iseq-1][isub-1] if seq[m-iseq-1] == sub[n-isub-1] else 0))\n",
    "    for row in range(m):\n",
    "        for col in range(n):\n",
    "            table[row][col] = count(row, col)\n",
    "    print(table)\n",
    "    return table[m-1][n-1]"
   ]
  },
  {
   "cell_type": "code",
   "execution_count": 51,
   "metadata": {},
   "outputs": [
    {
     "name": "stdout",
     "output_type": "stream",
     "text": [
      "[[0, 0, 0, 0], [0, 0, 0, 0], [0, 0, 0, 0], [0, 0, 0, 0], [0, 0, 0, 0], [0, 0, 0, 0], [0, 0, 0, 0]]\n",
      "Y\n",
      "Y\n",
      "Y\n",
      "B\n",
      "B\n",
      "B\n",
      "A\n",
      "A\n",
      "A\n",
      "B\n",
      "B\n",
      "B\n",
      "A\n",
      "A\n",
      "A\n",
      "B\n",
      "B\n",
      "B\n",
      "[[1, 0, 0, 0], [1, 0, 0, 0], [1, 1, 0, 0], [1, 1, 1, 0], [1, 2, 1, 1], [1, 2, 3, 1], [1, 3, 3, 4]]\n"
     ]
    },
    {
     "data": {
      "text/plain": [
       "4"
      ]
     },
     "execution_count": 51,
     "metadata": {},
     "output_type": "execute_result"
    }
   ],
   "source": [
    "num_subsequences('BABABY','BAB')"
   ]
  },
  {
   "cell_type": "code",
   "execution_count": 63,
   "metadata": {},
   "outputs": [],
   "source": []
  },
  {
   "cell_type": "code",
   "execution_count": 64,
   "metadata": {},
   "outputs": [
    {
     "name": "stdout",
     "output_type": "stream",
     "text": [
      "-----\n",
      "0\n",
      "0\n",
      "0\n",
      "-----\n",
      "1\n",
      "0\n",
      "0\n",
      "-----\n",
      "1\n",
      "1\n",
      "0\n",
      "-----\n",
      "2\n",
      "1\n",
      "1\n",
      "-----\n",
      "2\n",
      "3\n",
      "1\n",
      "-----\n",
      "3\n",
      "3\n",
      "4\n"
     ]
    },
    {
     "data": {
      "text/plain": [
       "4"
      ]
     },
     "execution_count": 64,
     "metadata": {},
     "output_type": "execute_result"
    }
   ],
   "source": [
    "num_subsequences('BABABY','BAB')"
   ]
  },
  {
   "cell_type": "code",
   "execution_count": 73,
   "metadata": {},
   "outputs": [],
   "source": [
    "def findAnagrams( s, p):\n",
    "        \"\"\"\n",
    "        :type s: str\n",
    "        :type p: str\n",
    "        :rtype: List[int]\n",
    "        \"\"\"\n",
    "        \n",
    "        if s == \"\":\n",
    "            return []\n",
    "        output  = []\n",
    "        correctdict = dict()\n",
    "        tempdict = dict()\n",
    "        for i in s+p:\n",
    "            if i not in correctdict:\n",
    "                correctdict[i] = 0\n",
    "                tempdict[i] = 0\n",
    "            \n",
    "        for i in p:\n",
    "            correctdict[i] += 1\n",
    "             \n",
    "        for i in s[0:len(p)]:\n",
    "            tempdict[i] += 1\n",
    "        \n",
    "        if tempdict == correctdict:\n",
    "            output.append(0)  \n",
    "            \n",
    "        for i in range(len(s) - len(p)):\n",
    "            tempdict[s[i]] -= 1\n",
    "            \n",
    "            tempdict[s[i + len(p)]] += 1\n",
    "            print(tempdict)\n",
    "            if tempdict == correctdict:\n",
    "                output.append(i + 1)\n",
    "\n",
    "            \n",
    "\n",
    "                \n",
    "        return output"
   ]
  },
  {
   "cell_type": "code",
   "execution_count": 76,
   "metadata": {},
   "outputs": [
    {
     "name": "stdout",
     "output_type": "stream",
     "text": [
      "{'c': 0, 'b': 1, 'a': 1, 'e': 1, 'd': 0}\n",
      "{'c': 0, 'b': 1, 'a': 1, 'e': 1, 'd': 0}\n",
      "{'c': 0, 'b': 1, 'a': 1, 'e': 1, 'd': 0}\n",
      "{'c': 0, 'b': 2, 'a': 1, 'e': 0, 'd': 0}\n",
      "{'c': 0, 'b': 1, 'a': 2, 'e': 0, 'd': 0}\n",
      "{'c': 1, 'b': 1, 'a': 1, 'e': 0, 'd': 0}\n",
      "{'c': 1, 'b': 0, 'a': 1, 'e': 0, 'd': 1}\n"
     ]
    },
    {
     "data": {
      "text/plain": [
       "[0, 6]"
      ]
     },
     "execution_count": 76,
     "metadata": {},
     "output_type": "execute_result"
    }
   ],
   "source": [
    "s= \"cbaebabacd\" \n",
    "p= \"abc\"\n",
    "findAnagrams( s, p)"
   ]
  },
  {
   "cell_type": "code",
   "execution_count": 116,
   "metadata": {
    "code_folding": []
   },
   "outputs": [],
   "source": [
    "def lengthOfLongestSubstring(s):\n",
    "        dic, res, start, = {}, 0, 0\n",
    "        for i, ch in enumerate(s):\n",
    "            # when char already in dictionary\n",
    "            if ch in dic:\n",
    "                # check length from start of string to index\n",
    "                res = max(res, i-start)\n",
    "                print(res)\n",
    "                # update start of string index to the next index\n",
    "                start = max(start, dic[ch]+1)\n",
    "                print(start)\n",
    "            # add/update char to/of dictionary \n",
    "            dic[ch] = i\n",
    "            print(dic)\n",
    "        # answer is either in the begining/middle OR some mid to the end of string\n",
    "        return max(res, len(s)-start)\n",
    "        "
   ]
  },
  {
   "cell_type": "code",
   "execution_count": 117,
   "metadata": {},
   "outputs": [
    {
     "name": "stdout",
     "output_type": "stream",
     "text": [
      "{'a': 0}\n",
      "{'a': 0, 'b': 1}\n",
      "{'a': 0, 'b': 1, 'c': 2}\n",
      "3\n",
      "1\n",
      "{'a': 3, 'b': 1, 'c': 2}\n",
      "3\n",
      "2\n",
      "{'a': 3, 'b': 4, 'c': 2}\n",
      "3\n",
      "3\n",
      "{'a': 3, 'b': 4, 'c': 5}\n",
      "3\n",
      "5\n",
      "{'a': 3, 'b': 6, 'c': 5}\n",
      "3\n",
      "7\n",
      "{'a': 3, 'b': 7, 'c': 5}\n",
      "3\n",
      "8\n",
      "{'a': 3, 'b': 8, 'c': 5}\n"
     ]
    },
    {
     "data": {
      "text/plain": [
       "3"
      ]
     },
     "execution_count": 117,
     "metadata": {},
     "output_type": "execute_result"
    }
   ],
   "source": [
    "lengthOfLongestSubstring(\"abcabcbbb\")"
   ]
  },
  {
   "cell_type": "code",
   "execution_count": 108,
   "metadata": {},
   "outputs": [],
   "source": [
    "def lengthOfLongestSubstring(s):\n",
    "    if s==\"\":\n",
    "        return 0\n",
    "    num=len(set(s))\n",
    "    print(num)\n",
    "    for i in range(num):\n",
    "        n=num-i\n",
    "        print(i)\n",
    "        print(\"-----------\")\n",
    "        for j in range(len(s)-n+1):\n",
    "            print(j)\n",
    "            a=s[j:j+n]\n",
    "            if len(set(a))==n:\n",
    "                return n"
   ]
  },
  {
   "cell_type": "code",
   "execution_count": 112,
   "metadata": {},
   "outputs": [
    {
     "name": "stdout",
     "output_type": "stream",
     "text": [
      "2\n",
      "0\n",
      "-----------\n",
      "0\n"
     ]
    },
    {
     "data": {
      "text/plain": [
       "2"
      ]
     },
     "execution_count": 112,
     "metadata": {},
     "output_type": "execute_result"
    }
   ],
   "source": [
    "lengthOfLongestSubstring(\"ababbb\")"
   ]
  },
  {
   "cell_type": "code",
   "execution_count": 130,
   "metadata": {},
   "outputs": [],
   "source": [
    "from collections import defaultdict\n",
    "def frequencySort(s):\n",
    "        \"\"\"\n",
    "        :type s: str\n",
    "        :rtype: str\n",
    "        \"\"\"\n",
    "        charMap = defaultdict(int)\n",
    "        \n",
    "        for i in range(len(s)):\n",
    "            charMap[s[i]] +=1\n",
    "            \n",
    "        res = \"\"\n",
    "       \n",
    "        for char in sorted(charMap, key=charMap.get,reverse =True):\n",
    "            print(charMap[char])\n",
    "            cnt = charMap[char]\n",
    "    \n",
    "            res += char*cnt\n",
    "            print(res)\n",
    "        return res"
   ]
  },
  {
   "cell_type": "code",
   "execution_count": 131,
   "metadata": {},
   "outputs": [
    {
     "name": "stdout",
     "output_type": "stream",
     "text": [
      "2\n",
      "ee\n",
      "1\n",
      "eet\n",
      "1\n",
      "eetr\n"
     ]
    },
    {
     "data": {
      "text/plain": [
       "'eetr'"
      ]
     },
     "execution_count": 131,
     "metadata": {},
     "output_type": "execute_result"
    }
   ],
   "source": [
    "frequencySort(\"tree\")"
   ]
  },
  {
   "cell_type": "code",
   "execution_count": 137,
   "metadata": {},
   "outputs": [],
   "source": [
    "\n",
    "res+=\"e\"*2"
   ]
  },
  {
   "cell_type": "code",
   "execution_count": 138,
   "metadata": {},
   "outputs": [
    {
     "data": {
      "text/plain": [
       "'teeee'"
      ]
     },
     "execution_count": 138,
     "metadata": {},
     "output_type": "execute_result"
    }
   ],
   "source": [
    "res"
   ]
  },
  {
   "cell_type": "code",
   "execution_count": 191,
   "metadata": {},
   "outputs": [],
   "source": [
    "def findKthLargest(nums, k):\n",
    "    # convert the kth largest to smallest\n",
    "    return findKthSmallest(nums, len(nums)+1-k)\n",
    "    \n",
    "def findKthSmallest(nums, k):\n",
    "    if nums:\n",
    "        pos = partition(nums, 0, len(nums)-1)\n",
    "        print(pos)\n",
    "        if k > pos+1:\n",
    "            return findKthSmallest(nums[pos+1:], k-pos-1)\n",
    "        elif k < pos+1:\n",
    "            \n",
    "            return findKthSmallest(nums[:pos], k)\n",
    "        else:\n",
    "            return nums[pos]\n",
    " \n",
    "# choose the right-most element as pivot   \n",
    "def partition(nums, l, r):\n",
    "    low = l\n",
    "    while l < r:\n",
    "        if nums[l] < nums[r]:\n",
    "            nums[l], nums[low] = nums[low], nums[l]\n",
    "            \n",
    "            low += 1\n",
    "        l += 1\n",
    "    nums[low], nums[r] = nums[r], nums[low]\n",
    "    print(nums)\n",
    "    print(\"Hey\")\n",
    "    return low"
   ]
  },
  {
   "cell_type": "code",
   "execution_count": 193,
   "metadata": {},
   "outputs": [
    {
     "name": "stdout",
     "output_type": "stream",
     "text": [
      "[3, 9, 1, 2, 4, 5]\n",
      "[3, 1, 9, 2, 4, 5]\n",
      "[3, 1, 2, 9, 4, 5]\n",
      "[3, 1, 2, 4, 9, 5]\n",
      "===\n",
      "[3, 1, 2, 4, 5, 9]\n",
      "4\n",
      "[3, 1, 2, 4]\n",
      "[3, 1, 2, 4]\n",
      "[3, 1, 2, 4]\n",
      "[3, 1, 2, 4]\n",
      "===\n",
      "[3, 1, 2, 4]\n",
      "3\n"
     ]
    },
    {
     "data": {
      "text/plain": [
       "4"
      ]
     },
     "execution_count": 193,
     "metadata": {},
     "output_type": "execute_result"
    }
   ],
   "source": [
    "nums=[9,3,1,2,4,5]\n",
    "\n",
    "findKthLargest(nums,3)"
   ]
  },
  {
   "cell_type": "code",
   "execution_count": 155,
   "metadata": {},
   "outputs": [],
   "source": [
    "nums[1],nums[2]=nums[2],nums[1]"
   ]
  },
  {
   "cell_type": "code",
   "execution_count": 156,
   "metadata": {},
   "outputs": [
    {
     "data": {
      "text/plain": [
       "[2, 1, 3, 5, 6, 9, 10, 11]"
      ]
     },
     "execution_count": 156,
     "metadata": {},
     "output_type": "execute_result"
    }
   ],
   "source": [
    "nums"
   ]
  },
  {
   "cell_type": "code",
   "execution_count": 199,
   "metadata": {},
   "outputs": [],
   "source": [
    "def findPairs(self, l, k):\n",
    "        \"\"\"\n",
    "        :type nums: List[int]\n",
    "        :type k: int\n",
    "        :rtype: int\n",
    "an        def count(l):\n",
    "            dic={}\n",
    "            for i in l:\n",
    "                count=0\n",
    "                if i in dic:\n",
    "                    dic[i]+=1\n",
    "                else:\n",
    "                    dic[i]=1\n",
    "            return dic\n",
    "        \n",
    "        d=count(l)\n",
    "        co=0\n",
    "        if k<0:\n",
    "            return 0\n",
    "        elif k==0:\n",
    "            for item in d:\n",
    "                if d[item]>1:\n",
    "                    co+=1\n",
    "            return co\n",
    "        else:\n",
    "            for item in d:\n",
    "                if item+k in d:\n",
    "                    co+=1\n",
    "            return co\n",
    "        \n",
    "        "
   ]
  },
  {
   "cell_type": "code",
   "execution_count": null,
   "metadata": {},
   "outputs": [],
   "source": [
    "def k_diff_pairs(arr,k):\n",
    "    l,r=0,0\n",
    "    n=len(arr)\n",
    "    count=0\n",
    "    arr.sort()\n",
    "    print(arr)\n",
    "    while r<n:\n",
    "        if (arr[r]-arr[l]==k):\n",
    "            count+=1\n",
    "            l+=1\n",
    "            r+=1\n",
    "        elif(arr[r]-arr[l]>k):\n",
    "            l+=1\n",
    "        else:\n",
    "            r+=1\n",
    "    print(count)\n",
    "    return count\n",
    "            "
   ]
  },
  {
   "cell_type": "code",
   "execution_count": 209,
   "metadata": {},
   "outputs": [
    {
     "name": "stdout",
     "output_type": "stream",
     "text": [
      "(1, 1)\n"
     ]
    },
    {
     "data": {
      "text/plain": [
       "1"
      ]
     },
     "execution_count": 209,
     "metadata": {},
     "output_type": "execute_result"
    }
   ],
   "source": [
    "a=[3, 1, 4, 1, 5]\n",
    "k = 2\n",
    "findPairs(a,k)"
   ]
  },
  {
   "cell_type": "code",
   "execution_count": 207,
   "metadata": {},
   "outputs": [],
   "source": [
    "def count(l):\n",
    "    dic={}\n",
    "    for i in l:\n",
    "        count=0\n",
    "        if i in dic:\n",
    "            dic[i]+=1\n",
    "        else:\n",
    "            dic[i]=1\n",
    "    return dic"
   ]
  },
  {
   "cell_type": "code",
   "execution_count": 216,
   "metadata": {},
   "outputs": [],
   "source": [
    "def findpairs(l,k):\n",
    "    d=count(l)\n",
    "    co=0\n",
    "    if k<0:\n",
    "        return 0\n",
    "    elif k==0:\n",
    "        for item in d:\n",
    "            if d[item]>1:\n",
    "                co+=1\n",
    "            return co\n",
    "    else:\n",
    "        for item in d:\n",
    "            if item+k in d:\n",
    "                co+=1\n",
    "        return co\n",
    "        \n",
    "        \n",
    "    "
   ]
  },
  {
   "cell_type": "code",
   "execution_count": 217,
   "metadata": {},
   "outputs": [
    {
     "data": {
      "text/plain": [
       "2"
      ]
     },
     "execution_count": 217,
     "metadata": {},
     "output_type": "execute_result"
    }
   ],
   "source": [
    "a=[3, 1, 4, 1, 5]\n",
    "k = 2\n",
    "findpairs(a,k)"
   ]
  },
  {
   "cell_type": "code",
   "execution_count": 223,
   "metadata": {},
   "outputs": [],
   "source": [
    "#Biased coin to fair coin\n",
    "from random import random\n",
    "def biasedcoin():\n",
    "    return int(random() < 0.6)\n",
    "\n",
    "def faircoin(biasedcoin):\n",
    "    coin1,coin2=0,0\n",
    "    while coin1==coin2:\n",
    "        coin1,coin2=biasedcoin(),biasedcoin()\n",
    "    return coin1"
   ]
  },
  {
   "cell_type": "code",
   "execution_count": 224,
   "metadata": {},
   "outputs": [
    {
     "data": {
      "text/plain": [
       "6032"
      ]
     },
     "execution_count": 224,
     "metadata": {},
     "output_type": "execute_result"
    }
   ],
   "source": [
    "sum(biasedcoin() for i in range(10000))"
   ]
  },
  {
   "cell_type": "code",
   "execution_count": 225,
   "metadata": {},
   "outputs": [
    {
     "data": {
      "text/plain": [
       "4994"
      ]
     },
     "execution_count": 225,
     "metadata": {},
     "output_type": "execute_result"
    }
   ],
   "source": [
    "sum(faircoin(biasedcoin) for i in range(10000))"
   ]
  },
  {
   "cell_type": "code",
   "execution_count": 233,
   "metadata": {},
   "outputs": [],
   "source": [
    "def removeDuplicates(nums):\n",
    "        \"\"\"\n",
    "        :type nums: List[int]\n",
    "        :rtype: int\n",
    "        \"\"\"\n",
    "        nums[:] = (nums[i] for i in range(len(nums)) if i == 0 or nums[i] != nums[i-1])\n",
    "        return nums"
   ]
  },
  {
   "cell_type": "code",
   "execution_count": 234,
   "metadata": {},
   "outputs": [
    {
     "data": {
      "text/plain": [
       "[1, 2]"
      ]
     },
     "execution_count": 234,
     "metadata": {},
     "output_type": "execute_result"
    }
   ],
   "source": [
    "removeDuplicates([1,1,1,2])"
   ]
  },
  {
   "cell_type": "code",
   "execution_count": null,
   "metadata": {},
   "outputs": [],
   "source": [
    "def lengthOfLongestSubstring(s):\n",
    "        start = maxLength = 0\n",
    "        usedChar = {}\n",
    "        \n",
    "        for i in range(len(s)):\n",
    "            if s[i] in usedChar and start <= usedChar[s[i]]:\n",
    "                start = usedChar[s[i]] + 1\n",
    "            else:\n",
    "                maxLength = max(maxLength, i - start + 1)\n",
    "\n",
    "            usedChar[s[i]] = i\n",
    "\n",
    "        return maxLength"
   ]
  },
  {
   "cell_type": "code",
   "execution_count": null,
   "metadata": {},
   "outputs": [],
   "source": [
    "#First unique characters\n",
    "def first(arr):\n",
    "    for i,x in enumerate(arr):\n",
    "        if arr[x]==1:\n",
    "            return i\n",
    "        else:\n",
    "            continue\n",
    "    return -1"
   ]
  },
  {
   "cell_type": "code",
   "execution_count": 271,
   "metadata": {},
   "outputs": [],
   "source": [
    "def count_prime(n):\n",
    "    res=[True]*n\n",
    "    res[0]=res[1]=False\n",
    "    for i in range(2,n):\n",
    "        if res[i]==True:\n",
    "            for j in range(2,(n-1)//i+1):\n",
    "                res[i*j]=False\n",
    "    return sum(res)"
   ]
  },
  {
   "cell_type": "code",
   "execution_count": 272,
   "metadata": {},
   "outputs": [
    {
     "data": {
      "text/plain": [
       "4"
      ]
     },
     "execution_count": 272,
     "metadata": {},
     "output_type": "execute_result"
    }
   ],
   "source": [
    "count_prime(10)"
   ]
  },
  {
   "cell_type": "code",
   "execution_count": 287,
   "metadata": {},
   "outputs": [],
   "source": [
    "s1={\"beginword\"}"
   ]
  },
  {
   "cell_type": "code",
   "execution_count": 289,
   "metadata": {},
   "outputs": [
    {
     "ename": "AttributeError",
     "evalue": "'set' object has no attribute 'dtype'",
     "output_type": "error",
     "traceback": [
      "\u001b[0;31m---------------------------------------------------------------------------\u001b[0m",
      "\u001b[0;31mAttributeError\u001b[0m                            Traceback (most recent call last)",
      "\u001b[0;32m<ipython-input-289-7fc030e1388a>\u001b[0m in \u001b[0;36m<module>\u001b[0;34m()\u001b[0m\n\u001b[0;32m----> 1\u001b[0;31m \u001b[0ms1\u001b[0m\u001b[0;34m.\u001b[0m\u001b[0mdtype\u001b[0m\u001b[0;34m\u001b[0m\u001b[0m\n\u001b[0m",
      "\u001b[0;31mAttributeError\u001b[0m: 'set' object has no attribute 'dtype'"
     ]
    }
   ],
   "source": [
    "s1.dtype"
   ]
  },
  {
   "cell_type": "code",
   "execution_count": null,
   "metadata": {},
   "outputs": [],
   "source": []
  }
 ],
 "metadata": {
  "kernelspec": {
   "display_name": "Python 3",
   "language": "python",
   "name": "python3"
  },
  "language_info": {
   "codemirror_mode": {
    "name": "ipython",
    "version": 3
   },
   "file_extension": ".py",
   "mimetype": "text/x-python",
   "name": "python",
   "nbconvert_exporter": "python",
   "pygments_lexer": "ipython3",
   "version": "3.6.2"
  }
 },
 "nbformat": 4,
 "nbformat_minor": 2
}
